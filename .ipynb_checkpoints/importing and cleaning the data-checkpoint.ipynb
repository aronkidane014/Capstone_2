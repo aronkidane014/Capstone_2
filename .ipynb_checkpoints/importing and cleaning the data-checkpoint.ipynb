{
 "cells": [
  {
   "cell_type": "code",
   "execution_count": 1,
   "id": "c5b6e510-64ac-43ae-8ce6-98ef46447b41",
   "metadata": {},
   "outputs": [],
   "source": [
    "import pandas as pd\n",
    "import matplotlib.pyplot as plt\n"
   ]
  },
  {
   "cell_type": "markdown",
   "id": "cac9474d-03eb-46a0-ad5f-1ca93b2ad07b",
   "metadata": {},
   "source": [
    "# loading customer data"
   ]
  },
  {
   "cell_type": "code",
   "execution_count": 2,
   "id": "5622f67d-290a-459d-b72f-1a83ea13808f",
   "metadata": {},
   "outputs": [],
   "source": [
    "# importing customer list data with the correct delimiter\n",
    "customer_list = pd.read_csv('customer_list_updated.csv', delimiter='|')\n"
   ]
  },
  {
   "cell_type": "code",
   "execution_count": 3,
   "id": "21e99c35-0081-4f3f-b18f-269882f686a1",
   "metadata": {},
   "outputs": [
    {
     "name": "stdout",
     "output_type": "stream",
     "text": [
      "   cust_id        date      time           name  \\\n",
      "0        1  2023-03-15  08:45:12         Rachel   \n",
      "1        2  2023-05-22  12:30:45     R&! Geller   \n",
      "2        3  2023-07-09  18:15:27  Monica Geller   \n",
      "3        4  2023-09-01  21:05:33  Chandler Bing   \n",
      "4        5  2023-11-18  14:22:10           Joey   \n",
      "5        6  2024-01-05  10:55:49     P&! Buffay   \n",
      "6        7  2024-02-14  16:40:05        Gunther   \n",
      "7        8  2023-04-20  09:15:30         Janice   \n",
      "8        9  2023-06-30  13:50:55       Mike H.^   \n",
      "9       10  2023-08-25  17:25:10          Emily   \n",
      "\n",
      "                            email         phone sms-opt-out   \n",
      "0       rachel@centralperk.coffee  212-555-1001            N  \n",
      "1        rossg@centralperk.coffee  212-555-1002            N  \n",
      "2   chefmonica@centralperk.coffee  212-555-1003            N  \n",
      "3    chandlerb@centralperk.coffee  212-555-1004            Y  \n",
      "4  howyoudoing@centralperk.coffee  212-555-1005            N  \n",
      "5    smellycat@centralperk.coffee  212-555-1006            N  \n",
      "6      gunther@centralperk.coffee  212-555-1007            N  \n",
      "7      ohmygod@centralperk.coffee  212-555-1008            N  \n",
      "8         mike@centralperk.coffee  212-555-1009            N  \n",
      "9        emily@centralperk.coffee  212-555-1010            N  \n"
     ]
    }
   ],
   "source": [
    "print(customer_list.head(10))"
   ]
  },
  {
   "cell_type": "code",
   "execution_count": 4,
   "id": "83995e2e-e0d4-4b0d-ac2e-9b8811b99d59",
   "metadata": {},
   "outputs": [],
   "source": [
    "# Removing extra spaces in column names\n",
    "customer_list.columns = customer_list.columns.str.strip()\n"
   ]
  },
  {
   "cell_type": "code",
   "execution_count": 5,
   "id": "ed1a255e-6f60-4816-a46d-a8c9dacc8252",
   "metadata": {},
   "outputs": [],
   "source": [
    "# Removing non-standard characters from 'name' column\n",
    "customer_list['name'] = customer_list['name'].str.replace(r'[^a-zA-Z\\-\\.\\s]', '', regex=True)\n"
   ]
  },
  {
   "cell_type": "code",
   "execution_count": 6,
   "id": "a50ad4e6-79bb-4d41-b37f-b0354facec52",
   "metadata": {},
   "outputs": [],
   "source": [
    "# changing phone numbers to the format NNN-NNN-NNNN\n",
    "customer_list['phone'] = customer_list['phone'].str.replace(r'(\\d{3})(\\d{3})(\\d{4})', r'\\1-\\2-\\3', regex=True)\n"
   ]
  },
  {
   "cell_type": "code",
   "execution_count": 7,
   "id": "ba43fc63-9f40-435e-89cc-5cc51a8757c6",
   "metadata": {},
   "outputs": [],
   "source": [
    "# Filling missing values in 'sms-opt-out' with 'N'\n",
    "customer_list['sms-opt-out'] = customer_list['sms-opt-out'].fillna('N')\n"
   ]
  },
  {
   "cell_type": "code",
   "execution_count": 8,
   "id": "676fa417-b70a-489d-af96-55a3506c64e7",
   "metadata": {},
   "outputs": [
    {
     "name": "stdout",
     "output_type": "stream",
     "text": [
      "   cust_id        date      time           name  \\\n",
      "0        1  2023-03-15  08:45:12         Rachel   \n",
      "1        2  2023-05-22  12:30:45       R Geller   \n",
      "2        3  2023-07-09  18:15:27  Monica Geller   \n",
      "3        4  2023-09-01  21:05:33  Chandler Bing   \n",
      "4        5  2023-11-18  14:22:10           Joey   \n",
      "\n",
      "                            email         phone sms-opt-out  \n",
      "0       rachel@centralperk.coffee  212-555-1001           N  \n",
      "1        rossg@centralperk.coffee  212-555-1002           N  \n",
      "2   chefmonica@centralperk.coffee  212-555-1003           N  \n",
      "3    chandlerb@centralperk.coffee  212-555-1004           Y  \n",
      "4  howyoudoing@centralperk.coffee  212-555-1005           N  \n"
     ]
    }
   ],
   "source": [
    "# Displaying the cleaned customer list\n",
    "print(customer_list.head())\n"
   ]
  },
  {
   "cell_type": "code",
   "execution_count": 9,
   "id": "654ae29e-88e1-49be-a63b-56fbf5c8064d",
   "metadata": {},
   "outputs": [],
   "source": [
    "# saving the cleaned customer_list\n",
    "customer_list.to_csv('cleaned_customer_list.csv', index=False)\n"
   ]
  },
  {
   "cell_type": "markdown",
   "id": "42cb7db1-b626-4001-9d4b-d351443796d6",
   "metadata": {},
   "source": [
    "# comparing original customer_list with cleaned"
   ]
  },
  {
   "cell_type": "code",
   "execution_count": 10,
   "id": "88f67978-baff-4fc4-ab5c-7493e6a00919",
   "metadata": {},
   "outputs": [],
   "source": [
    "# Loading the original and cleaned data\n",
    "original_customer_list = pd.read_csv('customer_list_updated.csv', delimiter='|')\n",
    "cleaned_customer_list = pd.read_csv('cleaned_customer_list.csv')\n"
   ]
  },
  {
   "cell_type": "code",
   "execution_count": 11,
   "id": "64772dfb-c23c-4fcd-8ce9-a8736a892f48",
   "metadata": {},
   "outputs": [
    {
     "data": {
      "text/html": [
       "<div>\n",
       "<style scoped>\n",
       "    .dataframe tbody tr th:only-of-type {\n",
       "        vertical-align: middle;\n",
       "    }\n",
       "\n",
       "    .dataframe tbody tr th {\n",
       "        vertical-align: top;\n",
       "    }\n",
       "\n",
       "    .dataframe thead th {\n",
       "        text-align: right;\n",
       "    }\n",
       "</style>\n",
       "<table border=\"1\" class=\"dataframe\">\n",
       "  <thead>\n",
       "    <tr style=\"text-align: right;\">\n",
       "      <th></th>\n",
       "      <th>Original Name</th>\n",
       "      <th>Cleaned Name</th>\n",
       "      <th>Original Phone</th>\n",
       "      <th>Cleaned Phone</th>\n",
       "      <th>Original SMS Opt-Out</th>\n",
       "      <th>Cleaned SMS Opt-Out</th>\n",
       "    </tr>\n",
       "  </thead>\n",
       "  <tbody>\n",
       "    <tr>\n",
       "      <th>0</th>\n",
       "      <td>Rachel</td>\n",
       "      <td>Rachel</td>\n",
       "      <td>212-555-1001</td>\n",
       "      <td>212-555-1001</td>\n",
       "      <td>N/A</td>\n",
       "      <td>N</td>\n",
       "    </tr>\n",
       "    <tr>\n",
       "      <th>1</th>\n",
       "      <td>R&amp;! Geller</td>\n",
       "      <td>R Geller</td>\n",
       "      <td>212-555-1002</td>\n",
       "      <td>212-555-1002</td>\n",
       "      <td>N/A</td>\n",
       "      <td>N</td>\n",
       "    </tr>\n",
       "    <tr>\n",
       "      <th>2</th>\n",
       "      <td>Monica Geller</td>\n",
       "      <td>Monica Geller</td>\n",
       "      <td>212-555-1003</td>\n",
       "      <td>212-555-1003</td>\n",
       "      <td>N/A</td>\n",
       "      <td>N</td>\n",
       "    </tr>\n",
       "    <tr>\n",
       "      <th>3</th>\n",
       "      <td>Chandler Bing</td>\n",
       "      <td>Chandler Bing</td>\n",
       "      <td>212-555-1004</td>\n",
       "      <td>212-555-1004</td>\n",
       "      <td>N/A</td>\n",
       "      <td>Y</td>\n",
       "    </tr>\n",
       "    <tr>\n",
       "      <th>4</th>\n",
       "      <td>Joey</td>\n",
       "      <td>Joey</td>\n",
       "      <td>212-555-1005</td>\n",
       "      <td>212-555-1005</td>\n",
       "      <td>N/A</td>\n",
       "      <td>N</td>\n",
       "    </tr>\n",
       "    <tr>\n",
       "      <th>5</th>\n",
       "      <td>P&amp;! Buffay</td>\n",
       "      <td>P Buffay</td>\n",
       "      <td>212-555-1006</td>\n",
       "      <td>212-555-1006</td>\n",
       "      <td>N/A</td>\n",
       "      <td>N</td>\n",
       "    </tr>\n",
       "    <tr>\n",
       "      <th>6</th>\n",
       "      <td>Gunther</td>\n",
       "      <td>Gunther</td>\n",
       "      <td>212-555-1007</td>\n",
       "      <td>212-555-1007</td>\n",
       "      <td>N/A</td>\n",
       "      <td>N</td>\n",
       "    </tr>\n",
       "    <tr>\n",
       "      <th>7</th>\n",
       "      <td>Janice</td>\n",
       "      <td>Janice</td>\n",
       "      <td>212-555-1008</td>\n",
       "      <td>212-555-1008</td>\n",
       "      <td>N/A</td>\n",
       "      <td>N</td>\n",
       "    </tr>\n",
       "    <tr>\n",
       "      <th>8</th>\n",
       "      <td>Mike H.^</td>\n",
       "      <td>Mike H.</td>\n",
       "      <td>212-555-1009</td>\n",
       "      <td>212-555-1009</td>\n",
       "      <td>N/A</td>\n",
       "      <td>N</td>\n",
       "    </tr>\n",
       "    <tr>\n",
       "      <th>9</th>\n",
       "      <td>Emily</td>\n",
       "      <td>Emily</td>\n",
       "      <td>212-555-1010</td>\n",
       "      <td>212-555-1010</td>\n",
       "      <td>N/A</td>\n",
       "      <td>N</td>\n",
       "    </tr>\n",
       "  </tbody>\n",
       "</table>\n",
       "</div>"
      ],
      "text/plain": [
       "   Original Name   Cleaned Name Original Phone Cleaned Phone  \\\n",
       "0         Rachel         Rachel   212-555-1001  212-555-1001   \n",
       "1     R&! Geller       R Geller   212-555-1002  212-555-1002   \n",
       "2  Monica Geller  Monica Geller   212-555-1003  212-555-1003   \n",
       "3  Chandler Bing  Chandler Bing   212-555-1004  212-555-1004   \n",
       "4           Joey           Joey   212-555-1005  212-555-1005   \n",
       "5     P&! Buffay       P Buffay   212-555-1006  212-555-1006   \n",
       "6        Gunther        Gunther   212-555-1007  212-555-1007   \n",
       "7         Janice         Janice   212-555-1008  212-555-1008   \n",
       "8       Mike H.^        Mike H.   212-555-1009  212-555-1009   \n",
       "9          Emily          Emily   212-555-1010  212-555-1010   \n",
       "\n",
       "  Original SMS Opt-Out Cleaned SMS Opt-Out  \n",
       "0                  N/A                   N  \n",
       "1                  N/A                   N  \n",
       "2                  N/A                   N  \n",
       "3                  N/A                   Y  \n",
       "4                  N/A                   N  \n",
       "5                  N/A                   N  \n",
       "6                  N/A                   N  \n",
       "7                  N/A                   N  \n",
       "8                  N/A                   N  \n",
       "9                  N/A                   N  "
      ]
     },
     "execution_count": 11,
     "metadata": {},
     "output_type": "execute_result"
    }
   ],
   "source": [
    "# Create a comparison DataFrame to view before and after cleaning\n",
    "comparison = pd.DataFrame({\n",
    "    \"Original Name\": original_customer_list['name'],\n",
    "    \"Cleaned Name\": cleaned_customer_list['name'],\n",
    "    \"Original Phone\": original_customer_list['phone'],\n",
    "    \"Cleaned Phone\": cleaned_customer_list['phone'],\n",
    "    \"Original SMS Opt-Out\": original_customer_list.get('sms-opt-out', 'N/A'),\n",
    "    \"Cleaned SMS Opt-Out\": cleaned_customer_list['sms-opt-out']\n",
    "})\n",
    "\n",
    "# Display the first 10 rows for comparison\n",
    "comparison.head(10)\n"
   ]
  },
  {
   "cell_type": "code",
   "execution_count": 12,
   "id": "32d00f96-71b9-4a5b-9756-5e658effeecf",
   "metadata": {},
   "outputs": [
    {
     "name": "stdout",
     "output_type": "stream",
     "text": [
      "Original Phone - Last 10 Entries:\n",
      "511    555-555-3201\n",
      "512    555-555-3202\n",
      "513    555-555-3203\n",
      "514    555-555-3204\n",
      "515    555-555-3205\n",
      "516    555-555-3206\n",
      "517    555-555-3207\n",
      "518    555-555-3208\n",
      "519    555-555-3209\n",
      "520    555-555-3210\n",
      "Name: phone, dtype: object\n",
      "\n",
      "Cleaned Phone - Last 10 Entries:\n",
      "511    555-555-3201\n",
      "512    555-555-3202\n",
      "513    555-555-3203\n",
      "514    555-555-3204\n",
      "515    555-555-3205\n",
      "516    555-555-3206\n",
      "517    555-555-3207\n",
      "518    555-555-3208\n",
      "519    555-555-3209\n",
      "520    555-555-3210\n",
      "Name: phone, dtype: object\n"
     ]
    }
   ],
   "source": [
    "\n",
    "\n",
    "\n",
    "# Load the original and cleaned customer list files\n",
    "original_customer_list = pd.read_csv('customer_list_updated.csv', delimiter='|')\n",
    "cleaned_customer_list = pd.read_csv('cleaned_customer_list.csv')\n",
    "\n",
    "# Display the last 10 rows of the 'phone' column for both original and cleaned data\n",
    "print(\"Original Phone - Last 10 Entries:\")\n",
    "print(original_customer_list['phone'].tail(10))\n",
    "\n",
    "print(\"\\nCleaned Phone - Last 10 Entries:\")\n",
    "print(cleaned_customer_list['phone'].tail(10))\n"
   ]
  },
  {
   "cell_type": "markdown",
   "id": "a13079f2-ee72-4708-a9db-39c2d764833a",
   "metadata": {},
   "source": [
    "# loading the transaction data"
   ]
  },
  {
   "cell_type": "code",
   "execution_count": 13,
   "id": "04a72eaa-512b-4d08-b6e5-7b48d7048f9c",
   "metadata": {},
   "outputs": [],
   "source": [
    "# Load the transaction data\n",
    "transaction_data = pd.read_csv('transaction_data.csv')\n"
   ]
  },
  {
   "cell_type": "code",
   "execution_count": 14,
   "id": "0e187bae-9d73-4a62-afcf-a21d49183363",
   "metadata": {},
   "outputs": [
    {
     "name": "stdout",
     "output_type": "stream",
     "text": [
      "   TransactionID  CustID       Date       Employee  ProductID  \\\n",
      "0          10258       1  7/17/2023  Nancy Davolio         32   \n",
      "1          10275       2   8/7/2023  Nancy Davolio         24   \n",
      "2          10275       2   8/7/2023  Nancy Davolio         59   \n",
      "3          10292       3  8/28/2023  Nancy Davolio         20   \n",
      "4          10293       4  8/29/2023  Nancy Davolio         18   \n",
      "5          10293       4  8/29/2023  Nancy Davolio         24   \n",
      "6          10293       4  8/29/2023  Nancy Davolio         63   \n",
      "7          10293       4  8/29/2023  Nancy Davolio         75   \n",
      "8          10304       4  9/12/2023  Nancy Davolio         59   \n",
      "9          10304       4  9/12/2023  Nancy Davolio         71   \n",
      "\n",
      "              ProductName  VendorID                    ProductVendor  \\\n",
      "0      Mascarpone Fabioli        14          Formaggi Fortini s.r.l.   \n",
      "1        Guaran Fantstica        10        Refrescos Americanas LTDA   \n",
      "2    Raclette Courdavault        28                      Gai pturage   \n",
      "3  Sir Rodney's Marmalade         8         Specialty Biscuits, Ltd.   \n",
      "4        Carnarvon Tigers         7                    Pavlova, Ltd.   \n",
      "5        Guaran Fantstica        10        Refrescos Americanas LTDA   \n",
      "6            Vegie-spread         7                    Pavlova, Ltd.   \n",
      "7      Rhnbru Klosterbier        12  Plutzer Lebensmittelgromrkte AG   \n",
      "8    Raclette Courdavault        28                      Gai pturage   \n",
      "9             Flotemysost        15                  Norske Meierier   \n",
      "\n",
      "   UnitPrice  Quantity  Subtotal  Tax(8%)  OrderTotal  \n",
      "0       25.6         6     153.6    12.29      165.89  \n",
      "1        3.6        12      43.2     3.46       46.66  \n",
      "2       44.0         6     264.0    21.12      285.12  \n",
      "3       64.8        20    1296.0   103.68     1399.68  \n",
      "4       50.0        12     600.0    48.00      648.00  \n",
      "5        3.6        10      36.0     2.88       38.88  \n",
      "6       35.1         5     175.5    14.04      189.54  \n",
      "7        6.2         6      37.2     2.98       40.18  \n",
      "8       44.0        10     440.0    35.20      475.20  \n",
      "9       17.2         2      34.4     2.75       37.15  \n"
     ]
    }
   ],
   "source": [
    "print(transaction_data.head(10))"
   ]
  },
  {
   "cell_type": "code",
   "execution_count": 15,
   "id": "9edd221e-af86-4ef7-a6eb-2151ecb573ce",
   "metadata": {},
   "outputs": [],
   "source": [
    "# Convert the 'Date' column to datetime format\n",
    "transaction_data['Date'] = pd.to_datetime(transaction_data['Date'], errors='coerce')\n"
   ]
  },
  {
   "cell_type": "code",
   "execution_count": 16,
   "id": "744baeaa-121c-40dd-9769-11ee96a374d2",
   "metadata": {},
   "outputs": [],
   "source": [
    "# Remove duplicate rows, if any\n",
    "transaction_data = transaction_data.drop_duplicates()\n"
   ]
  },
  {
   "cell_type": "code",
   "execution_count": 17,
   "id": "36b2fa39-5e06-49aa-8894-074c87f5b66a",
   "metadata": {},
   "outputs": [
    {
     "name": "stdout",
     "output_type": "stream",
     "text": [
      "Missing values per column:\n",
      " TransactionID    0\n",
      "CustID           0\n",
      "Date             0\n",
      "Employee         0\n",
      "ProductID        0\n",
      "ProductName      0\n",
      "VendorID         0\n",
      "ProductVendor    0\n",
      "UnitPrice        0\n",
      "Quantity         0\n",
      "Subtotal         0\n",
      "Tax(8%)          0\n",
      "OrderTotal       0\n",
      "dtype: int64\n"
     ]
    }
   ],
   "source": [
    "# Check for missing values\n",
    "missing_data = transaction_data.isnull().sum()\n",
    "print(\"Missing values per column:\\n\", missing_data)\n",
    "\n"
   ]
  },
  {
   "cell_type": "code",
   "execution_count": 18,
   "id": "59145e8b-ebf7-4fef-8c3a-41113e07ac6b",
   "metadata": {},
   "outputs": [
    {
     "name": "stdout",
     "output_type": "stream",
     "text": [
      "   TransactionID  CustID       Date       Employee  ProductID  \\\n",
      "0          10258       1 2023-07-17  Nancy Davolio         32   \n",
      "1          10275       2 2023-08-07  Nancy Davolio         24   \n",
      "2          10275       2 2023-08-07  Nancy Davolio         59   \n",
      "3          10292       3 2023-08-28  Nancy Davolio         20   \n",
      "4          10293       4 2023-08-29  Nancy Davolio         18   \n",
      "\n",
      "              ProductName  VendorID              ProductVendor  UnitPrice  \\\n",
      "0      Mascarpone Fabioli        14    Formaggi Fortini s.r.l.       25.6   \n",
      "1        Guaran Fantstica        10  Refrescos Americanas LTDA        3.6   \n",
      "2    Raclette Courdavault        28                Gai pturage       44.0   \n",
      "3  Sir Rodney's Marmalade         8   Specialty Biscuits, Ltd.       64.8   \n",
      "4        Carnarvon Tigers         7              Pavlova, Ltd.       50.0   \n",
      "\n",
      "   Quantity  Subtotal  Tax(8%)  OrderTotal  \n",
      "0         6     153.6    12.29      165.89  \n",
      "1        12      43.2     3.46       46.66  \n",
      "2         6     264.0    21.12      285.12  \n",
      "3        20    1296.0   103.68     1399.68  \n",
      "4        12     600.0    48.00      648.00  \n"
     ]
    }
   ],
   "source": [
    "# Displaying the cleaned transaction list\n",
    "print(transaction_data.head())"
   ]
  },
  {
   "cell_type": "code",
   "execution_count": 19,
   "id": "180cd798-55c2-4daa-b603-da430fa38983",
   "metadata": {},
   "outputs": [],
   "source": [
    "# Saving the cleaned data to a new CSV file\n",
    "transaction_data.to_csv('cleaned_transaction_data.csv', index=False)\n"
   ]
  },
  {
   "cell_type": "code",
   "execution_count": null,
   "id": "02416886-d66b-41a5-9e29-298b24043467",
   "metadata": {},
   "outputs": [],
   "source": []
  }
 ],
 "metadata": {
  "kernelspec": {
   "display_name": "Python 3 (ipykernel)",
   "language": "python",
   "name": "python3"
  },
  "language_info": {
   "codemirror_mode": {
    "name": "ipython",
    "version": 3
   },
   "file_extension": ".py",
   "mimetype": "text/x-python",
   "name": "python",
   "nbconvert_exporter": "python",
   "pygments_lexer": "ipython3",
   "version": "3.12.6"
  }
 },
 "nbformat": 4,
 "nbformat_minor": 5
}
