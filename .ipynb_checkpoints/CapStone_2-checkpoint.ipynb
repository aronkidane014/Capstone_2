{
 "cells": [
  {
   "cell_type": "markdown",
   "id": "773525d1-99ce-4080-ad52-612864190a85",
   "metadata": {},
   "source": [
    "# Data cleaning"
   ]
  },
  {
   "cell_type": "markdown",
   "id": "18505839-e601-49e7-aeba-6f8608437447",
   "metadata": {},
   "source": [
    "### Importing necessary libraries"
   ]
  },
  {
   "cell_type": "code",
   "execution_count": 1,
   "id": "c5b6e510-64ac-43ae-8ce6-98ef46447b41",
   "metadata": {},
   "outputs": [],
   "source": [
    "import pandas as pd\n",
    "import matplotlib.pyplot as plt\n",
    "import numpy as np\n"
   ]
  },
  {
   "cell_type": "markdown",
   "id": "cac9474d-03eb-46a0-ad5f-1ca93b2ad07b",
   "metadata": {},
   "source": [
    "### loading customer data"
   ]
  },
  {
   "cell_type": "code",
   "execution_count": null,
   "id": "5622f67d-290a-459d-b72f-1a83ea13808f",
   "metadata": {},
   "outputs": [],
   "source": [
    "# importing customer list data with the correct delimiter\n",
    "customer_list = pd.read_csv('customer_list_updated.csv', delimiter='|')\n"
   ]
  },
  {
   "cell_type": "code",
   "execution_count": null,
   "id": "21e99c35-0081-4f3f-b18f-269882f686a1",
   "metadata": {},
   "outputs": [],
   "source": [
    "print(customer_list.head(10))"
   ]
  },
  {
   "cell_type": "markdown",
   "id": "46380faf-1e6e-4b7f-9f1b-15484a28d761",
   "metadata": {},
   "source": [
    "### Removing extra spaces in column names"
   ]
  },
  {
   "cell_type": "code",
   "execution_count": null,
   "id": "83995e2e-e0d4-4b0d-ac2e-9b8811b99d59",
   "metadata": {},
   "outputs": [],
   "source": [
    "customer_list.columns = customer_list.columns.str.strip()\n"
   ]
  },
  {
   "cell_type": "markdown",
   "id": "c5c61c0e-72a2-4344-a384-030d4ddc04ee",
   "metadata": {},
   "source": [
    "### Removing non-standard characters from 'name' column"
   ]
  },
  {
   "cell_type": "code",
   "execution_count": null,
   "id": "ed1a255e-6f60-4816-a46d-a8c9dacc8252",
   "metadata": {},
   "outputs": [],
   "source": [
    "customer_list['name'] = customer_list['name'].str.replace(r'[^a-zA-Z\\-\\.\\s]', '', regex=True)\n"
   ]
  },
  {
   "cell_type": "markdown",
   "id": "42f6e343-1740-4d8a-a553-fab3a0e93fd0",
   "metadata": {},
   "source": [
    "### changing phone numbers to the format NNN-NNN-NNNN"
   ]
  },
  {
   "cell_type": "code",
   "execution_count": null,
   "id": "a50ad4e6-79bb-4d41-b37f-b0354facec52",
   "metadata": {},
   "outputs": [],
   "source": [
    "customer_list['phone'] = customer_list['phone'].str.replace(r'(\\d{3})(\\d{3})(\\d{4})', r'\\1-\\2-\\3', regex=True)\n"
   ]
  },
  {
   "cell_type": "markdown",
   "id": "5b8e0c82-a000-406f-bc10-7a96e4e795b1",
   "metadata": {},
   "source": [
    "### Filling missing values in 'sms-opt-out' with 'N'"
   ]
  },
  {
   "cell_type": "code",
   "execution_count": null,
   "id": "ba43fc63-9f40-435e-89cc-5cc51a8757c6",
   "metadata": {},
   "outputs": [],
   "source": [
    "customer_list['sms-opt-out'] = customer_list['sms-opt-out'].fillna('N')\n"
   ]
  },
  {
   "cell_type": "markdown",
   "id": "dd566a01-a6b5-44a9-9ca0-708bffc38bc6",
   "metadata": {},
   "source": [
    "### Displaying the cleaned customer list"
   ]
  },
  {
   "cell_type": "code",
   "execution_count": null,
   "id": "676fa417-b70a-489d-af96-55a3506c64e7",
   "metadata": {},
   "outputs": [],
   "source": [
    "\n",
    "print(customer_list.head())\n"
   ]
  },
  {
   "cell_type": "markdown",
   "id": "f5ea8e18-1ecd-4e03-9473-0ab1286141ad",
   "metadata": {},
   "source": [
    "### saving the cleaned customer_list"
   ]
  },
  {
   "cell_type": "code",
   "execution_count": null,
   "id": "654ae29e-88e1-49be-a63b-56fbf5c8064d",
   "metadata": {},
   "outputs": [],
   "source": [
    "customer_list.to_csv('cleaned_customer_list.csv', index=False)\n"
   ]
  },
  {
   "cell_type": "markdown",
   "id": "42cb7db1-b626-4001-9d4b-d351443796d6",
   "metadata": {},
   "source": [
    "## comparing original customer_list with cleaned"
   ]
  },
  {
   "cell_type": "code",
   "execution_count": null,
   "id": "88f67978-baff-4fc4-ab5c-7493e6a00919",
   "metadata": {},
   "outputs": [],
   "source": [
    "# Loading the original and cleaned data\n",
    "original_customer_list = pd.read_csv('customer_list_updated.csv', delimiter='|')\n",
    "cleaned_customer_list = pd.read_csv('cleaned_customer_list.csv')\n"
   ]
  },
  {
   "cell_type": "code",
   "execution_count": null,
   "id": "64772dfb-c23c-4fcd-8ce9-a8736a892f48",
   "metadata": {},
   "outputs": [],
   "source": [
    "# Create a comparison DataFrame to view before and after cleaning\n",
    "comparison = pd.DataFrame({\n",
    "    \"Original Name\": original_customer_list['name'],\n",
    "    \"Cleaned Name\": cleaned_customer_list['name'],\n",
    "    \"Original Phone\": original_customer_list['phone'],\n",
    "    \"Cleaned Phone\": cleaned_customer_list['phone'],\n",
    "    \"Original SMS Opt-Out\": original_customer_list.get('sms-opt-out', 'N/A'),\n",
    "    \"Cleaned SMS Opt-Out\": cleaned_customer_list['sms-opt-out']\n",
    "})\n",
    "\n",
    "comparison.head(10)\n"
   ]
  },
  {
   "cell_type": "markdown",
   "id": "a13079f2-ee72-4708-a9db-39c2d764833a",
   "metadata": {},
   "source": [
    "### loading the transaction data"
   ]
  },
  {
   "cell_type": "code",
   "execution_count": null,
   "id": "04a72eaa-512b-4d08-b6e5-7b48d7048f9c",
   "metadata": {},
   "outputs": [],
   "source": [
    "\n",
    "transaction_data = pd.read_csv('transaction_data.csv')\n"
   ]
  },
  {
   "cell_type": "code",
   "execution_count": null,
   "id": "0e187bae-9d73-4a62-afcf-a21d49183363",
   "metadata": {},
   "outputs": [],
   "source": [
    "print(transaction_data.head(10))"
   ]
  },
  {
   "cell_type": "markdown",
   "id": "ec29bb55-1dfb-4c6d-b957-e2b112e6c5f8",
   "metadata": {},
   "source": [
    "### Converting the 'Date' column to datetime format"
   ]
  },
  {
   "cell_type": "code",
   "execution_count": null,
   "id": "9edd221e-af86-4ef7-a6eb-2151ecb573ce",
   "metadata": {},
   "outputs": [],
   "source": [
    "transaction_data['Date'] = pd.to_datetime(transaction_data['Date'], errors='coerce')\n"
   ]
  },
  {
   "cell_type": "markdown",
   "id": "6b8e64cc-4b52-4067-b0b6-c5b1c1013c98",
   "metadata": {},
   "source": [
    "### Remove duplicate rows, if any"
   ]
  },
  {
   "cell_type": "code",
   "execution_count": null,
   "id": "744baeaa-121c-40dd-9769-11ee96a374d2",
   "metadata": {},
   "outputs": [],
   "source": [
    "transaction_data = transaction_data.drop_duplicates()\n"
   ]
  },
  {
   "cell_type": "markdown",
   "id": "88f40299-6d81-4344-8937-872923bc1971",
   "metadata": {},
   "source": [
    "### Check for missing values"
   ]
  },
  {
   "cell_type": "code",
   "execution_count": null,
   "id": "36b2fa39-5e06-49aa-8894-074c87f5b66a",
   "metadata": {},
   "outputs": [],
   "source": [
    "missing_data = transaction_data.isnull().sum()\n",
    "print(\"Missing values per column:\\n\", missing_data)\n",
    "\n"
   ]
  },
  {
   "cell_type": "markdown",
   "id": "b16c1335-eef4-47a2-af00-6f46f99a8b4a",
   "metadata": {},
   "source": [
    "### Saving the cleaned data to a new CSV file"
   ]
  },
  {
   "cell_type": "code",
   "execution_count": null,
   "id": "180cd798-55c2-4daa-b603-da430fa38983",
   "metadata": {},
   "outputs": [],
   "source": [
    "transaction_data.to_csv('cleaned_transaction_data.csv', index=False)\n"
   ]
  },
  {
   "cell_type": "markdown",
   "id": "b37a384b-a980-43af-9951-a30ae84c8214",
   "metadata": {},
   "source": [
    "## comparison between the orignal and cleaned transaction data"
   ]
  },
  {
   "cell_type": "code",
   "execution_count": null,
   "id": "02416886-d66b-41a5-9e29-298b24043467",
   "metadata": {},
   "outputs": [],
   "source": [
    "# Loading the original and cleaned transaction data files\n",
    "original_transaction_data = pd.read_csv('transaction_data.csv')\n",
    "cleaned_transaction_data = pd.read_csv('cleaned_transaction_data.csv')\n",
    "\n",
    "# a comparison DataFrame for Date and Product Name columns\n",
    "comparison = pd.DataFrame({\n",
    "    \"Original Date\": original_transaction_data['Date'],\n",
    "    \"Cleaned Date\": cleaned_transaction_data['Date'],\n",
    "    \"Original Product Name\": original_transaction_data['ProductName'],\n",
    "    \"Cleaned Product Name\": cleaned_transaction_data['ProductName']\n",
    "})\n",
    "\n",
    "# the first 5 rows and last 5 rows of the comparison to see changes in Date and Product Name\n",
    "print(\"First 5 Rows - Date and Product Name Comparison:\")\n",
    "print(comparison.head())\n",
    "\n",
    "print(\"\\nLast 5 Rows - Date and Product Name Comparison:\")\n",
    "print(comparison.tail())"
   ]
  },
  {
   "cell_type": "markdown",
   "id": "3529e64c-248f-4ad5-86ac-0c47df4ca795",
   "metadata": {},
   "source": [
    "# Data analysis and visualizations"
   ]
  },
  {
   "cell_type": "markdown",
   "id": "477c729e-cd28-40bc-ac29-d546c7135a9d",
   "metadata": {},
   "source": [
    "### Data Presentation and Initial Summary"
   ]
  },
  {
   "cell_type": "code",
   "execution_count": null,
   "id": "a9e097a2-bfb7-4fe7-8a70-71153e53710b",
   "metadata": {},
   "outputs": [],
   "source": [
    "# Display the first 10 rows\n",
    "print(\"Top 10 Rows of the Cleaned Data:\")\n",
    "print(cleaned_transaction_data.head(10))\n",
    "\n",
    "\n"
   ]
  },
  {
   "cell_type": "markdown",
   "id": "6c356990-ff8b-4de5-81d9-5c3e54dab991",
   "metadata": {},
   "source": [
    "### Statistical summary"
   ]
  },
  {
   "cell_type": "code",
   "execution_count": null,
   "id": "84868d16-69ad-42a1-8d55-4b3df015073a",
   "metadata": {},
   "outputs": [],
   "source": [
    "print(\"\\nStatistical Summary:\")\n",
    "print(cleaned_transaction_data.describe())"
   ]
  },
  {
   "cell_type": "markdown",
   "id": "1c3bcc81-d6f0-4df8-9921-bf4e88c7a336",
   "metadata": {},
   "source": [
    "## Monthly Sales Analysis"
   ]
  },
  {
   "cell_type": "markdown",
   "id": "9522ce00-6646-4d18-a4d3-b7476bd3372d",
   "metadata": {},
   "source": [
    " ### Creating a 'Month' column"
   ]
  },
  {
   "cell_type": "code",
   "execution_count": null,
   "id": "f6257e96-3962-4398-b7b4-ab7e0afc67c7",
   "metadata": {},
   "outputs": [],
   "source": [
    "# 'Date' column is in datetime format\n",
    "cleaned_transaction_data['Date'] = pd.to_datetime(cleaned_transaction_data['Date'], errors='coerce')\n",
    "cleaned_transaction_data['Month'] = cleaned_transaction_data['Date'].dt.to_period('M')\n"
   ]
  },
  {
   "cell_type": "markdown",
   "id": "451554dc-b02f-4c2c-bddc-d1797846a3db",
   "metadata": {},
   "source": [
    "### Aggregating monthly sales"
   ]
  },
  {
   "cell_type": "code",
   "execution_count": null,
   "id": "b6fd5bf7-1653-4a98-9bbd-0c524b7dca2f",
   "metadata": {},
   "outputs": [],
   "source": [
    "monthly_sales = cleaned_transaction_data.groupby('Month')['OrderTotal'].sum()\n",
    "\n",
    "print(\"Monthly Sales:\")\n",
    "print(monthly_sales)"
   ]
  },
  {
   "cell_type": "markdown",
   "id": "3ea47f53-2b9b-4d8b-8e39-48c48b3d41c3",
   "metadata": {},
   "source": [
    "### Plot monthly sales trend"
   ]
  },
  {
   "cell_type": "code",
   "execution_count": null,
   "id": "caefbcde-a53e-49db-971e-e4589a910ef3",
   "metadata": {},
   "outputs": [],
   "source": [
    "monthly_sales.plot(kind='line',  marker='o',markerfacecolor='red', title=\"Monthly Sales Trend\", xlabel=\"Month\", ylabel=\"Total Sales\", figsize=(10, 5))\n",
    "plt.show()\n"
   ]
  },
  {
   "cell_type": "markdown",
   "id": "bb37a6b9-838b-4f2a-a872-d3f72e8bf1fd",
   "metadata": {},
   "source": [
    "#### Top 5 Products by Revenue"
   ]
  },
  {
   "cell_type": "code",
   "execution_count": null,
   "id": "dda662e3-05a7-435f-9799-19b3237e45bc",
   "metadata": {},
   "outputs": [],
   "source": [
    "top_products = cleaned_transaction_data.groupby('ProductName')['OrderTotal'].sum().sort_values(ascending=False).head(5)\n",
    "print(\"\\nTop 5 Products by Revenue:\")\n",
    "print(top_products)"
   ]
  },
  {
   "cell_type": "markdown",
   "id": "5b9063dc-80a4-41ec-b218-856f632ab6e0",
   "metadata": {},
   "source": [
    "#### Plot top 5 products by revenue"
   ]
  },
  {
   "cell_type": "code",
   "execution_count": null,
   "id": "8aeb807f-850c-4ef5-8d28-5fbd27ed2179",
   "metadata": {},
   "outputs": [],
   "source": [
    "\n",
    "top_products.plot(kind='bar', title=\"Top 5 Products by Revenue\", xlabel=\"Product\", ylabel=\"Total Revenue\", figsize=(10, 5))\n",
    "plt.show()\n"
   ]
  },
  {
   "cell_type": "markdown",
   "id": "5cca0b1c-15a0-4649-a4b4-1fc2294b5e6a",
   "metadata": {},
   "source": [
    "### Top Customers by Spending"
   ]
  },
  {
   "cell_type": "code",
   "execution_count": null,
   "id": "c580aca1-e4e7-4480-81fa-aeb8c1efc2ef",
   "metadata": {},
   "outputs": [],
   "source": [
    "customer_spending = cleaned_transaction_data.groupby('CustID')['OrderTotal'].sum().sort_values(ascending=False).head(10)\n",
    "\n",
    "print(\"\\nTop 10 Customers by Spending:\")\n",
    "print(customer_spending)\n"
   ]
  },
  {
   "cell_type": "markdown",
   "id": "492dd47d-33a6-4ce5-b58a-7a747d0c69f9",
   "metadata": {},
   "source": [
    "### Plot top customers by spending"
   ]
  },
  {
   "cell_type": "code",
   "execution_count": null,
   "id": "af7abbe8-ec3e-43cc-b170-3502878dc0ec",
   "metadata": {},
   "outputs": [],
   "source": [
    "customer_spending.plot(kind='bar', title=\"Top 10 Customers by Spending\", xlabel=\"Customer ID\", ylabel=\"Total Spending\", figsize=(10, 5))\n",
    "plt.show()\n"
   ]
  },
  {
   "cell_type": "code",
   "execution_count": null,
   "id": "d55919d7-4e81-44f9-b025-3c65e9ebd125",
   "metadata": {},
   "outputs": [],
   "source": []
  }
 ],
 "metadata": {
  "kernelspec": {
   "display_name": "Python 3 (ipykernel)",
   "language": "python",
   "name": "python3"
  },
  "language_info": {
   "codemirror_mode": {
    "name": "ipython",
    "version": 3
   },
   "file_extension": ".py",
   "mimetype": "text/x-python",
   "name": "python",
   "nbconvert_exporter": "python",
   "pygments_lexer": "ipython3",
   "version": "3.12.6"
  }
 },
 "nbformat": 4,
 "nbformat_minor": 5
}
