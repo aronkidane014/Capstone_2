{
 "cells": [
  {
   "cell_type": "markdown",
   "id": "6f788223-a707-4616-9477-1506d41fb962",
   "metadata": {},
   "source": [
    "# Project Title: Working with data in Pyhton \n",
    "## Objective\n",
    "This project involves cleaning customer and transaction datasets to ensure data consistency, followed by an analysis to gain insights into customer behavior and sales trends. We will cover data cleaning, transformation, and visualization of key metrics.\n"
   ]
  },
  {
   "cell_type": "markdown",
   "id": "18505839-e601-49e7-aeba-6f8608437447",
   "metadata": {},
   "source": [
    "### Importing Necessary Libraries\n",
    "We begin by importing the essential libraries: `pandas` for data manipulation, `matplotlib.pyplot` for visualization, and `numpy` for numerical operations.\n"
   ]
  },
  {
   "cell_type": "code",
   "execution_count": null,
   "id": "c5b6e510-64ac-43ae-8ce6-98ef46447b41",
   "metadata": {},
   "outputs": [],
   "source": [
    "import pandas as pd\n",
    "import matplotlib.pyplot as plt\n",
    "import numpy as np\n"
   ]
  },
  {
   "cell_type": "markdown",
   "id": "54660469-4f10-442b-b56f-e6c0592bc4f7",
   "metadata": {},
   "source": [
    "# lodaing customer and transaction data"
   ]
  },
  {
   "cell_type": "code",
   "execution_count": null,
   "id": "205e10f0-2f4e-485a-aa4c-e9a6a50dda8a",
   "metadata": {},
   "outputs": [],
   "source": [
    "# Prompting for user input to specify file paths\n",
    "print(\"Welcome to the Capstone_2 data analysis project!\")\n",
    "customer_file_path = input(\"Please enter the path for the customer data file: \")\n",
    "transaction_file_path = input(\"Please enter the path for the transaction data file: \")\n",
    "\n",
    "# Load the data with user-specified paths\n",
    "customer_list = pd.read_csv(customer_file_path, delimiter='|')\n",
    "transaction_data = pd.read_csv(transaction_file_path)\n",
    "\n",
    "# Display the first few rows to confirm loading\n",
    "print(\"Customer Data Preview:\")\n",
    "print(customer_list.head())\n",
    "print(\"\\nTransaction Data Preview:\")\n",
    "print(transaction_data.head())\n"
   ]
  },
  {
   "cell_type": "markdown",
   "id": "122f508e-3dde-4c35-a3c6-30f516db5642",
   "metadata": {},
   "source": [
    "## Data Cleaning\n",
    "\n"
   ]
  },
  {
   "cell_type": "markdown",
   "id": "46380faf-1e6e-4b7f-9f1b-15484a28d761",
   "metadata": {},
   "source": [
    "- **Removing Extra Spaces in Column Names**: Ensures consistency by removing any trailing or leading spaces in column headers."
   ]
  },
  {
   "cell_type": "code",
   "execution_count": null,
   "id": "83995e2e-e0d4-4b0d-ac2e-9b8811b99d59",
   "metadata": {},
   "outputs": [],
   "source": [
    "customer_list.columns = customer_list.columns.str.strip()\n"
   ]
  },
  {
   "cell_type": "markdown",
   "id": "c5c61c0e-72a2-4344-a384-030d4ddc04ee",
   "metadata": {},
   "source": [
    "- **Handling Non-Standard Characters in Names**: Removes unwanted characters in the 'name' column, leaving only alphabetical characters, hyphens, and spaces."
   ]
  },
  {
   "cell_type": "code",
   "execution_count": null,
   "id": "ed1a255e-6f60-4816-a46d-a8c9dacc8252",
   "metadata": {},
   "outputs": [],
   "source": [
    "customer_list['name'] = customer_list['name'].str.replace(r'[^a-zA-Z\\-\\.\\s]', '', regex=True)\n"
   ]
  },
  {
   "cell_type": "markdown",
   "id": "42f6e343-1740-4d8a-a553-fab3a0e93fd0",
   "metadata": {},
   "source": [
    "- **Formatting Phone Numbers**: Standardizes phone numbers to a consistent `NNN-NNN-NNNN` format."
   ]
  },
  {
   "cell_type": "code",
   "execution_count": null,
   "id": "a50ad4e6-79bb-4d41-b37f-b0354facec52",
   "metadata": {},
   "outputs": [],
   "source": [
    "customer_list['phone'] = customer_list['phone'].str.replace(r'(\\d{3})(\\d{3})(\\d{4})', r'\\1-\\2-\\3', regex=True)\n"
   ]
  },
  {
   "cell_type": "markdown",
   "id": "5b8e0c82-a000-406f-bc10-7a96e4e795b1",
   "metadata": {},
   "source": [
    "- **Handling Missing SMS Opt-Out Values**: Fills any missing values in 'sms-opt-out' with 'N' (No) to ensure consistency in the data."
   ]
  },
  {
   "cell_type": "code",
   "execution_count": null,
   "id": "ba43fc63-9f40-435e-89cc-5cc51a8757c6",
   "metadata": {},
   "outputs": [],
   "source": [
    "customer_list['sms-opt-out'] = customer_list['sms-opt-out'].fillna('N')\n"
   ]
  },
  {
   "cell_type": "code",
   "execution_count": null,
   "id": "676fa417-b70a-489d-af96-55a3506c64e7",
   "metadata": {},
   "outputs": [],
   "source": [
    "print(\"\\nCleaned Data:\")\n",
    "print(customer_list.head())\n"
   ]
  },
  {
   "cell_type": "markdown",
   "id": "f5ea8e18-1ecd-4e03-9473-0ab1286141ad",
   "metadata": {},
   "source": [
    "### saving the cleaned customer_list"
   ]
  },
  {
   "cell_type": "code",
   "execution_count": null,
   "id": "654ae29e-88e1-49be-a63b-56fbf5c8064d",
   "metadata": {},
   "outputs": [],
   "source": [
    "customer_list.to_csv('cleaned_customer_list.csv', index=False)\n"
   ]
  },
  {
   "cell_type": "markdown",
   "id": "42cb7db1-b626-4001-9d4b-d351443796d6",
   "metadata": {},
   "source": [
    "### Comparison of Original and Cleaned Data\n",
    "Here, we compare specific columns from the original and cleaned datasets to verify the effectiveness of our data cleaning steps. This includes comparisons for 'name', 'phone', and 'sms-opt-out' in the customer list, as well as 'Date' and 'Product Name' in the transaction list.\n"
   ]
  },
  {
   "cell_type": "code",
   "execution_count": null,
   "id": "88f67978-baff-4fc4-ab5c-7493e6a00919",
   "metadata": {},
   "outputs": [],
   "source": [
    "# Loading the original and cleaned data\n",
    "original_customer_list = pd.read_csv('customer_list_updated.csv', delimiter='|')\n",
    "cleaned_customer_list = pd.read_csv('cleaned_customer_list.csv')\n"
   ]
  },
  {
   "cell_type": "code",
   "execution_count": null,
   "id": "64772dfb-c23c-4fcd-8ce9-a8736a892f48",
   "metadata": {},
   "outputs": [],
   "source": [
    "# Create a comparison DataFrame to view before and after cleaning\n",
    "comparison = pd.DataFrame({\n",
    "    \"Original Name\": original_customer_list['name'],\n",
    "    \"Cleaned Name\": cleaned_customer_list['name'],\n",
    "    \"Original Phone\": original_customer_list['phone'],\n",
    "    \"Cleaned Phone\": cleaned_customer_list['phone'],\n",
    "    \"Original SMS Opt-Out\": original_customer_list.get('sms-opt-out', 'N/A'),\n",
    "    \"Cleaned SMS Opt-Out\": cleaned_customer_list['sms-opt-out']\n",
    "})\n",
    "\n",
    "comparison.head(10)\n"
   ]
  },
  {
   "cell_type": "markdown",
   "id": "8f29b690-fb56-42d7-96b9-a853c1fb929e",
   "metadata": {},
   "source": [
    "### Transaction Data Cleaning"
   ]
  },
  {
   "cell_type": "markdown",
   "id": "ec29bb55-1dfb-4c6d-b957-e2b112e6c5f8",
   "metadata": {},
   "source": [
    "- **Date Filtering**: Removing Future Dates from Transaction Data"
   ]
  },
  {
   "cell_type": "code",
   "execution_count": null,
   "id": "9edd221e-af86-4ef7-a6eb-2151ecb573ce",
   "metadata": {},
   "outputs": [],
   "source": [
    "import datetime as dt\n",
    "\n",
    "# Get the current date\n",
    "today = dt.datetime.today()\n",
    "\n",
    "# Filter out transactions with dates in the future\n",
    "transaction_data['Date'] = pd.to_datetime(transaction_data['Date'], errors='coerce')  # Ensure date is in datetime format\n",
    "transaction_data = transaction_data[transaction_data['Date'] <= today]\n",
    "\n",
    "# Display the data after filtering\n",
    "print(\"Filtered Transaction Data Preview (No Future Dates):\")\n",
    "print(transaction_data.head())\n",
    "\n"
   ]
  },
  {
   "cell_type": "markdown",
   "id": "6b8e64cc-4b52-4067-b0b6-c5b1c1013c98",
   "metadata": {},
   "source": [
    "- **Duplicate Removal**: Ensures no duplicate entries exist, preserving data integrity."
   ]
  },
  {
   "cell_type": "code",
   "execution_count": null,
   "id": "744baeaa-121c-40dd-9769-11ee96a374d2",
   "metadata": {},
   "outputs": [],
   "source": [
    "transaction_data = transaction_data.drop_duplicates()\n"
   ]
  },
  {
   "cell_type": "markdown",
   "id": "88f40299-6d81-4344-8937-872923bc1971",
   "metadata": {},
   "source": [
    "- **Missing Values Check**: Identifies any columns with missing values that might require further cleaning."
   ]
  },
  {
   "cell_type": "code",
   "execution_count": null,
   "id": "36b2fa39-5e06-49aa-8894-074c87f5b66a",
   "metadata": {},
   "outputs": [],
   "source": [
    "missing_data = transaction_data.isnull().sum()\n",
    "print(\"Missing values per column:\\n\", missing_data)\n",
    "\n"
   ]
  },
  {
   "cell_type": "markdown",
   "id": "b16c1335-eef4-47a2-af00-6f46f99a8b4a",
   "metadata": {},
   "source": [
    "### Saving the cleaned data to a new CSV file"
   ]
  },
  {
   "cell_type": "code",
   "execution_count": null,
   "id": "180cd798-55c2-4daa-b603-da430fa38983",
   "metadata": {},
   "outputs": [],
   "source": [
    "transaction_data.to_csv('time_filtered_transaction_data.csv', index=False)\n"
   ]
  },
  {
   "cell_type": "markdown",
   "id": "b37a384b-a980-43af-9951-a30ae84c8214",
   "metadata": {},
   "source": [
    "## comparison between the orignal and cleaned transaction data"
   ]
  },
  {
   "cell_type": "code",
   "execution_count": null,
   "id": "02416886-d66b-41a5-9e29-298b24043467",
   "metadata": {},
   "outputs": [],
   "source": [
    "# Loading the original and cleaned transaction data files\n",
    "original_transaction_data = pd.read_csv('transaction_data.csv')\n",
    "cleaned_transaction_data = pd.read_csv('time_filtered_transaction_data.csv')\n",
    "\n",
    "# a comparison DataFrame for Date and Product Name columns\n",
    "comparison = pd.DataFrame({\n",
    "    \"Original Date\": original_transaction_data['Date'],\n",
    "    \"Cleaned Date\": cleaned_transaction_data['Date'],\n",
    "    \"Original Product Name\": original_transaction_data['ProductName'],\n",
    "    \"Cleaned Product Name\": cleaned_transaction_data['ProductName']\n",
    "})\n",
    "\n",
    "# the first 5 rows and last 5 rows of the comparison to see changes in Date and Product Name\n",
    "print(\"First 5 Rows - Date and Product Name Comparison:\")\n",
    "print(comparison.head())\n",
    "\n",
    "print(\"\\nLast 5 Rows - Date and Product Name Comparison:\")\n",
    "print(comparison.tail())"
   ]
  },
  {
   "cell_type": "markdown",
   "id": "3529e64c-248f-4ad5-86ac-0c47df4ca795",
   "metadata": {},
   "source": [
    "## Analysis and Visualization\n",
    "We perform analysis to reveal key insights about monthly sales trends, top products by revenue, and top customers by spending. These analyses help in understanding customer behavior and identifying revenue-driving products and customers.\n"
   ]
  },
  {
   "cell_type": "markdown",
   "id": "477c729e-cd28-40bc-ac29-d546c7135a9d",
   "metadata": {},
   "source": [
    "### Data Presentation and Initial Summary"
   ]
  },
  {
   "cell_type": "code",
   "execution_count": null,
   "id": "a9e097a2-bfb7-4fe7-8a70-71153e53710b",
   "metadata": {},
   "outputs": [],
   "source": [
    "# Display the first 10 rows\n",
    "print(\"Top 10 Rows of the Cleaned Data:\")\n",
    "print(cleaned_transaction_data.head(10))\n",
    "\n",
    "\n"
   ]
  },
  {
   "cell_type": "markdown",
   "id": "6c356990-ff8b-4de5-81d9-5c3e54dab991",
   "metadata": {},
   "source": [
    "### Statistical summary"
   ]
  },
  {
   "cell_type": "code",
   "execution_count": null,
   "id": "84868d16-69ad-42a1-8d55-4b3df015073a",
   "metadata": {},
   "outputs": [],
   "source": [
    "print(\"\\nStatistical Summary:\")\n",
    "print(cleaned_transaction_data.describe())"
   ]
  },
  {
   "cell_type": "markdown",
   "id": "1c3bcc81-d6f0-4df8-9921-bf4e88c7a336",
   "metadata": {},
   "source": [
    "## Monthly Sales Analysis"
   ]
  },
  {
   "cell_type": "markdown",
   "id": "9522ce00-6646-4d18-a4d3-b7476bd3372d",
   "metadata": {},
   "source": [
    " ### Creating a 'Month' column"
   ]
  },
  {
   "cell_type": "code",
   "execution_count": null,
   "id": "f6257e96-3962-4398-b7b4-ab7e0afc67c7",
   "metadata": {},
   "outputs": [],
   "source": [
    "# 'Date' column is in datetime format\n",
    "cleaned_transaction_data['Date'] = pd.to_datetime(cleaned_transaction_data['Date'], errors='coerce')\n",
    "cleaned_transaction_data['Month'] = cleaned_transaction_data['Date'].dt.to_period('M')\n"
   ]
  },
  {
   "cell_type": "markdown",
   "id": "451554dc-b02f-4c2c-bddc-d1797846a3db",
   "metadata": {},
   "source": [
    "### Aggregating monthly sales"
   ]
  },
  {
   "cell_type": "code",
   "execution_count": null,
   "id": "b6fd5bf7-1653-4a98-9bbd-0c524b7dca2f",
   "metadata": {},
   "outputs": [],
   "source": [
    "monthly_sales = cleaned_transaction_data.groupby('Month')['OrderTotal'].sum()\n",
    "\n",
    "print(\"Monthly Sales:\")\n",
    "print(monthly_sales)"
   ]
  },
  {
   "cell_type": "markdown",
   "id": "3ea47f53-2b9b-4d8b-8e39-48c48b3d41c3",
   "metadata": {},
   "source": [
    "### Plot monthly sales trend"
   ]
  },
  {
   "cell_type": "code",
   "execution_count": null,
   "id": "caefbcde-a53e-49db-971e-e4589a910ef3",
   "metadata": {},
   "outputs": [],
   "source": [
    "monthly_sales.plot(kind='line',  marker='o',markerfacecolor='red', title=\"Monthly Sales Trend\", xlabel=\"Month\", ylabel=\"Total Sales\", figsize=(10, 5), )\n",
    "# Adding a square grid background\n",
    "plt.grid(visible=True, which='both', linestyle='-', linewidth=0.5, color='gray')\n",
    "plt.gca().set_axisbelow(True)  \n",
    "plt.show()\n"
   ]
  },
  {
   "cell_type": "markdown",
   "id": "1b8a8b26-e29e-4f88-8868-8a9516f16a62",
   "metadata": {},
   "source": [
    "The monthly sales trend chart illustrates the fluctuation in total sales over a period from July 2023 to October 2024. Key observations include:\n",
    "\n",
    "- **Seasonal Variations**: There are visible peaks and dips in sales throughout the year, suggesting possible seasonal demand patterns.\n",
    "- **High Sales Periods**: The chart shows notable spikes in sales during specific months, such as **April** and **October**, which might be tied to seasonal events, holidays, or promotional periods.\n",
    "- **Low Sales Periods**: Sales tend to dip around **August** and **December**, which could indicate lower customer demand during these times or an opportunity to increase sales through targeted promotions.\n",
    "\n",
    "Understanding these monthly trends can assist in optimizing inventory, planning seasonal promotions, and aligning marketing efforts to maximize revenue during high-demand periods. Additionally, the observed low-demand months provide opportunities to investigate potential factors and adjust strategies to drive sales.\n"
   ]
  },
  {
   "cell_type": "markdown",
   "id": "bb37a6b9-838b-4f2a-a872-d3f72e8bf1fd",
   "metadata": {},
   "source": [
    "#### Top 5 Products by Revenue"
   ]
  },
  {
   "cell_type": "code",
   "execution_count": null,
   "id": "dda662e3-05a7-435f-9799-19b3237e45bc",
   "metadata": {},
   "outputs": [],
   "source": [
    "top_products = cleaned_transaction_data.groupby('ProductName')['OrderTotal'].sum().sort_values(ascending=False).head(5)\n",
    "print(\"\\nTop 5 Products by Revenue:\")\n",
    "print(top_products)"
   ]
  },
  {
   "cell_type": "markdown",
   "id": "5b9063dc-80a4-41ec-b218-856f632ab6e0",
   "metadata": {},
   "source": [
    "#### Plot top 5 products by revenue"
   ]
  },
  {
   "cell_type": "code",
   "execution_count": null,
   "id": "8aeb807f-850c-4ef5-8d28-5fbd27ed2179",
   "metadata": {},
   "outputs": [],
   "source": [
    "\n",
    "top_products.plot(kind='bar', title=\"Top 5 Products by Revenue\", xlabel=\"Product\", ylabel=\"Total Revenue\", figsize=(10, 5))\n",
    "plt.show()\n"
   ]
  },
  {
   "cell_type": "markdown",
   "id": "a9ff9a8f-2761-4971-8877-ee414bea3dce",
   "metadata": {},
   "source": [
    "The analysis of the top 5 revenue-generating products offers valuable insights into the company's sales dynamics and customer preferences. Products like **Thüringer Rostbratwurst** and **Côte de Blaye** clearly stand out as key revenue drivers, indicating strong market demand and potentially effective sales strategies. Meanwhile, items like **Gnocchi di nonna Alice** and **Manjimup Dried Apples** show moderate but stable sales, suggesting opportunities for targeted marketing to boost their performance further.\n",
    "\n",
    "This data provides a foundation for strategic decisions, such as:\n",
    "- **Inventory Management**: Prioritizing stock for high-demand products to avoid potential shortages.\n",
    "- **Marketing Focus**: Allocating resources towards promoting top-performing products to maximize returns.\n",
    "- **Product Development**: Exploring potential for enhancing or bundling moderate-performing items to increase their appeal.\n",
    "\n",
    "By leveraging these insights, the company can optimize its approach to meet customer needs, drive revenue, and strengthen its position in the market.\n"
   ]
  },
  {
   "cell_type": "markdown",
   "id": "5cca0b1c-15a0-4649-a4b4-1fc2294b5e6a",
   "metadata": {},
   "source": [
    "### Top Customers by Spending"
   ]
  },
  {
   "cell_type": "code",
   "execution_count": null,
   "id": "c580aca1-e4e7-4480-81fa-aeb8c1efc2ef",
   "metadata": {},
   "outputs": [],
   "source": [
    "customer_spending = cleaned_transaction_data.groupby('CustID')['OrderTotal'].sum().sort_values(ascending=False).head(10)\n",
    "\n",
    "print(\"\\nTop 10 Customers by Spending:\")\n",
    "print(customer_spending)\n"
   ]
  },
  {
   "cell_type": "markdown",
   "id": "492dd47d-33a6-4ce5-b58a-7a747d0c69f9",
   "metadata": {},
   "source": [
    "### Plot top customers by spending"
   ]
  },
  {
   "cell_type": "code",
   "execution_count": null,
   "id": "af7abbe8-ec3e-43cc-b170-3502878dc0ec",
   "metadata": {},
   "outputs": [],
   "source": [
    "customer_spending.plot(kind='bar', title=\"Top 10 Customers by Spending\", xlabel=\"Customer ID\", ylabel=\"Total Spending\", figsize=(10, 5))\n",
    "plt.show()\n"
   ]
  },
  {
   "cell_type": "markdown",
   "id": "659b445b-b3e2-48c9-8ab3-218093f65fb0",
   "metadata": {},
   "source": [
    "The analysis of top customers by spending provides a clear view of the most valuable clients based on their total expenditures. Key observations include:\n",
    "\n",
    "- **High-Value Customers**: The top spenders represent a significant portion of revenue, highlighting the importance of these customers to the business.\n",
    "- **Customer Loyalty Opportunities**: By identifying these top spenders, the business can explore loyalty programs, targeted promotions, or exclusive offers to retain and reward these high-value clients.\n",
    "- **Strategic Marketing**: Understanding the spending behavior of top customers allows for more personalized marketing strategies, which can further drive customer engagement and increase revenue.\n",
    "\n",
    "Focusing on these top customers can help the business nurture valuable relationships, ensuring consistent revenue streams and fostering customer loyalty.\n"
   ]
  },
  {
   "cell_type": "markdown",
   "id": "9d959697-0cdc-44da-8007-bf19e8a9607c",
   "metadata": {},
   "source": [
    "### the top selling products by month"
   ]
  },
  {
   "cell_type": "code",
   "execution_count": null,
   "id": "d55919d7-4e81-44f9-b025-3c65e9ebd125",
   "metadata": {},
   "outputs": [],
   "source": [
    "# Ensure 'Date' is in datetime format and create a 'Month' column\n",
    "transaction_data['Date'] = pd.to_datetime(transaction_data['Date'], errors='coerce')\n",
    "transaction_data['Month'] = transaction_data['Date'].dt.to_period('M')\n",
    "\n",
    "# Group by 'Month' and 'ProductName', summing 'OrderTotal' to get monthly sales per product\n",
    "monthly_product_sales = transaction_data.groupby(['Month', 'ProductName'])['OrderTotal'].sum().reset_index()\n",
    "\n",
    "# Find the product with the highest sales for each month\n",
    "peak_sales_summary = monthly_product_sales.loc[monthly_product_sales.groupby('Month')['OrderTotal'].idxmax()]\n",
    "\n",
    "# Display the peak product for each month\n",
    "print(\"Peak Sales Product for Each Month:\")\n",
    "print(peak_sales_summary)\n"
   ]
  },
  {
   "cell_type": "markdown",
   "id": "1aab2f92-6561-48c4-8709-db39315d370d",
   "metadata": {},
   "source": [
    "### Plotting for the top selling by month"
   ]
  },
  {
   "cell_type": "code",
   "execution_count": null,
   "id": "edfeeca4-f69d-4f5b-a78b-31ec523e5678",
   "metadata": {},
   "outputs": [],
   "source": [
    "plt.figure(figsize=(12, 6))\n",
    "plt.bar(peak_sales_summary['Month'].astype(str), peak_sales_summary['OrderTotal'], color='skyblue')\n",
    "plt.xticks(rotation=45)\n",
    "plt.xlabel('Month')\n",
    "plt.ylabel('Total Sales')\n",
    "plt.title('Peak Sales Product for Each Month')\n",
    "plt.tight_layout()\n",
    "\n",
    "# Adding product names as labels on top of each bar\n",
    "for i, row in peak_sales_summary.iterrows():\n",
    "    plt.text(row['Month'].strftime('%Y-%m'), row['OrderTotal'], row['ProductName'], ha='center', va='bottom', rotation=90)\n",
    "\n",
    "plt.show()"
   ]
  },
  {
   "cell_type": "markdown",
   "id": "46c08497-a5aa-4d90-abfa-a219f8ce4902",
   "metadata": {},
   "source": [
    "This bar chart illustrates the top-selling product for each month over a specified period. Key insights from this chart include:\n",
    "\n",
    "- **Monthly Variation in Top Products**: The peak product varies by month, indicating changing customer preferences or seasonal demand. \n",
    "   For instance, **Côte de Blaye** leads in October 2023, whereas **Thüringer Rostbratwurst** has peak sales in several other months, like July 2023 and August 2024.\n",
    "- **High-Performing Products**: Certain products, such as **Thüringer Rostbratwurst** and **Côte de Blaye**, \n",
    "appear multiple times as the highest-selling items in different months.This consistency highlights them as reliable revenue-generators.\n",
    "- **Opportunities for Promotion**: Products with lower peak months, like **Rössle Sauerkraut** in November 2024,\n",
    "might benefit from targeted promotions or marketing efforts during other months to increase visibility and sales.\n",
    "\n",
    "This analysis provides valuable insights for inventory planning, marketing strategies, and understanding customer buying trends throughout the year.\n"
   ]
  },
  {
   "cell_type": "markdown",
   "id": "b7c45955-ce7a-4c1f-a50b-4906ea2eff70",
   "metadata": {},
   "source": [
    "### the product with the lowest sales for each month\n"
   ]
  },
  {
   "cell_type": "code",
   "execution_count": null,
   "id": "314d678f-a659-4cd6-9816-6bc331e50438",
   "metadata": {},
   "outputs": [],
   "source": [
    "lowest_sales_summary = monthly_product_sales.loc[monthly_product_sales.groupby('Month')['OrderTotal'].idxmin()]\n",
    "\n",
    "print(\"Lowest Sales Product for Each Month:\")\n",
    "print(lowest_sales_summary)"
   ]
  },
  {
   "cell_type": "code",
   "execution_count": null,
   "id": "da4a95e2-8fc7-44ed-9b53-dd3bc0279243",
   "metadata": {},
   "outputs": [],
   "source": [
    "plt.figure(figsize=(12, 6))\n",
    "plt.bar(lowest_sales_summary['Month'].astype(str), lowest_sales_summary['OrderTotal'], color='salmon')\n",
    "plt.xticks(rotation=45)\n",
    "plt.xlabel('Month')\n",
    "plt.ylabel('Total Sales')\n",
    "plt.title('Lowest Sales Product for Each Month')\n",
    "plt.tight_layout()\n",
    "\n",
    "# Adding product names as labels on top of each bar\n",
    "for i, row in lowest_sales_summary.iterrows():\n",
    "    plt.text(row['Month'].strftime('%Y-%m'), row['OrderTotal'], row['ProductName'], ha='center', va='bottom', rotation=90)\n",
    "\n",
    "plt.show()"
   ]
  },
  {
   "cell_type": "markdown",
   "id": "ae7962a4-9a7b-4af6-ae42-59a425fe09ab",
   "metadata": {},
   "source": [
    "This analysis reveals the products with the lowest sales for each month. By identifying the least popular products, we gain insights into potential areas for improvement or promotional opportunities. For example:\n",
    "\n",
    "- **Inventory Management**: Products with consistently low sales might be taking up valuable storage space and could be reduced in stock or even discontinued.\n",
    "- **Targeted Promotions**: These low-selling products could benefit from targeted marketing campaigns or discounts to boost their visibility and demand.\n",
    "- **Seasonal Adjustments**: Some products may only underperform during specific months, suggesting a potential for seasonal marketing adjustments.\n",
    "\n",
    "Understanding these low-performing products on a monthly basis enables the business to make data-driven decisions, helping optimize inventory, reduce costs, and maximize profit potential.\n"
   ]
  },
  {
   "cell_type": "markdown",
   "id": "54c046e7-2545-4628-91ee-80b7ce68401c",
   "metadata": {},
   "source": [
    "# Project Conclusion\n",
    "\n",
    "This project provided a comprehensive analysis of customer and transaction data, focusing on data cleaning, transformation, and insightful visualizations to understand sales trends, top-performing products, and customer spending behaviors.\n",
    "\n",
    "Key findings include:\n",
    "- **Data Cleaning**: Ensuring data consistency by handling missing values, duplicates, and formatting issues improved the reliability of our analysis.\n",
    "- **Sales Trends**: The monthly sales trend analysis revealed seasonal fluctuations, with peaks in specific months such as April and October. This insight can inform inventory and marketing strategies to meet seasonal demand.\n",
    "- **Top Products and Customer Spending**: Identifying the top 5 products by revenue and the top 10 customers by spending provided insights into key revenue drivers. This allows for targeted marketing to high-spending customers and strategic focus on popular products.\n",
    "- **Peak Sales by Month**: Analyzing peak sales products for each month highlighted customer preferences over time, which can guide product stocking and promotional planning.\n",
    "\n",
    "Overall, this project underscores the importance of data-driven decision-making in optimizing business strategies. By understanding what drives sales and customer engagement, the organization can make more informed decisions, enhance customer satisfaction, and maximize revenue potential.\n"
   ]
  },
  {
   "cell_type": "code",
   "execution_count": null,
   "id": "4614bc46-8277-46a5-86d0-557230d89cd9",
   "metadata": {},
   "outputs": [],
   "source": []
  }
 ],
 "metadata": {
  "kernelspec": {
   "display_name": "Python 3 (ipykernel)",
   "language": "python",
   "name": "python3"
  },
  "language_info": {
   "codemirror_mode": {
    "name": "ipython",
    "version": 3
   },
   "file_extension": ".py",
   "mimetype": "text/x-python",
   "name": "python",
   "nbconvert_exporter": "python",
   "pygments_lexer": "ipython3",
   "version": "3.12.6"
  }
 },
 "nbformat": 4,
 "nbformat_minor": 5
}
