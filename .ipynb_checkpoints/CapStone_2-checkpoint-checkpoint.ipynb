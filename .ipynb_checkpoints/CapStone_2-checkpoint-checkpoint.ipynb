{
 "cells": [
  {
   "cell_type": "markdown",
   "id": "6f788223-a707-4616-9477-1506d41fb962",
   "metadata": {},
   "source": [
    "# Project Title: Working with data in Pyhton \n",
    "## Objective\n",
    "This project involves cleaning customer and transaction datasets to ensure data consistency, followed by an analysis to gain insights into customer behavior and sales trends. We will cover data cleaning, transformation, and visualization of key metrics.\n"
   ]
  },
  {
   "cell_type": "markdown",
   "id": "18505839-e601-49e7-aeba-6f8608437447",
   "metadata": {},
   "source": [
    "### Importing Necessary Libraries\n",
    "We begin by importing the essential libraries: `pandas` for data manipulation, `matplotlib.pyplot` for visualization, and `numpy` for numerical operations.\n"
   ]
  },
  {
   "cell_type": "code",
   "execution_count": 1,
   "id": "c5b6e510-64ac-43ae-8ce6-98ef46447b41",
   "metadata": {},
   "outputs": [],
   "source": [
    "import pandas as pd\n",
    "import matplotlib.pyplot as plt\n",
    "import numpy as np\n"
   ]
  },
  {
   "cell_type": "markdown",
   "id": "54660469-4f10-442b-b56f-e6c0592bc4f7",
   "metadata": {},
   "source": [
    "# lodaing customer and transaction data"
   ]
  },
  {
   "cell_type": "code",
   "execution_count": 2,
   "id": "205e10f0-2f4e-485a-aa4c-e9a6a50dda8a",
   "metadata": {},
   "outputs": [
    {
     "name": "stdout",
     "output_type": "stream",
     "text": [
      "Welcome to the Capstone_2 data analysis project!\n"
     ]
    },
    {
     "name": "stdin",
     "output_type": "stream",
     "text": [
      "Please enter the path for the customer data file:  customer_list_updated.csv\n",
      "Please enter the path for the transaction data file:  transaction_data.csv\n"
     ]
    },
    {
     "name": "stdout",
     "output_type": "stream",
     "text": [
      "Customer Data Preview:\n",
      "   cust_id        date      time           name  \\\n",
      "0        1  2023-03-15  08:45:12         Rachel   \n",
      "1        2  2023-05-22  12:30:45     R&! Geller   \n",
      "2        3  2023-07-09  18:15:27  Monica Geller   \n",
      "3        4  2023-09-01  21:05:33  Chandler Bing   \n",
      "4        5  2023-11-18  14:22:10           Joey   \n",
      "\n",
      "                            email         phone sms-opt-out   \n",
      "0       rachel@centralperk.coffee  212-555-1001            N  \n",
      "1        rossg@centralperk.coffee  212-555-1002            N  \n",
      "2   chefmonica@centralperk.coffee  212-555-1003            N  \n",
      "3    chandlerb@centralperk.coffee  212-555-1004            Y  \n",
      "4  howyoudoing@centralperk.coffee  212-555-1005            N  \n",
      "\n",
      "Transaction Data Preview:\n",
      "   TransactionID  CustID       Date       Employee  ProductID  \\\n",
      "0          10258       1  7/17/2023  Nancy Davolio         32   \n",
      "1          10275       2   8/7/2023  Nancy Davolio         24   \n",
      "2          10275       2   8/7/2023  Nancy Davolio         59   \n",
      "3          10292       3  8/28/2023  Nancy Davolio         20   \n",
      "4          10293       4  8/29/2023  Nancy Davolio         18   \n",
      "\n",
      "              ProductName  VendorID              ProductVendor  UnitPrice  \\\n",
      "0      Mascarpone Fabioli        14    Formaggi Fortini s.r.l.       25.6   \n",
      "1        Guaran Fantstica        10  Refrescos Americanas LTDA        3.6   \n",
      "2    Raclette Courdavault        28                Gai pturage       44.0   \n",
      "3  Sir Rodney's Marmalade         8   Specialty Biscuits, Ltd.       64.8   \n",
      "4        Carnarvon Tigers         7              Pavlova, Ltd.       50.0   \n",
      "\n",
      "   Quantity  Subtotal  Tax(8%)  OrderTotal  \n",
      "0         6     153.6    12.29      165.89  \n",
      "1        12      43.2     3.46       46.66  \n",
      "2         6     264.0    21.12      285.12  \n",
      "3        20    1296.0   103.68     1399.68  \n",
      "4        12     600.0    48.00      648.00  \n"
     ]
    }
   ],
   "source": [
    "# Prompting for user input to specify file paths\n",
    "print(\"Welcome to the Capstone_2 data analysis project!\")\n",
    "customer_file_path = input(\"Please enter the path for the customer data file: \")\n",
    "transaction_file_path = input(\"Please enter the path for the transaction data file: \")\n",
    "\n",
    "# Load the data with user-specified paths\n",
    "customer_list = pd.read_csv(customer_file_path, delimiter='|')\n",
    "transaction_data = pd.read_csv(transaction_file_path)\n",
    "\n",
    "# Display the first few rows to confirm loading\n",
    "print(\"Customer Data Preview:\")\n",
    "print(customer_list.head())\n",
    "print(\"\\nTransaction Data Preview:\")\n",
    "print(transaction_data.head())\n"
   ]
  },
  {
   "cell_type": "markdown",
   "id": "122f508e-3dde-4c35-a3c6-30f516db5642",
   "metadata": {},
   "source": [
    "## Data Cleaning\n",
    "\n"
   ]
  },
  {
   "cell_type": "markdown",
   "id": "46380faf-1e6e-4b7f-9f1b-15484a28d761",
   "metadata": {},
   "source": [
    "- **Removing Extra Spaces in Column Names**: Ensures consistency by removing any trailing or leading spaces in column headers."
   ]
  },
  {
   "cell_type": "code",
   "execution_count": 3,
   "id": "83995e2e-e0d4-4b0d-ac2e-9b8811b99d59",
   "metadata": {},
   "outputs": [],
   "source": [
    "customer_list.columns = customer_list.columns.str.strip()\n"
   ]
  },
  {
   "cell_type": "markdown",
   "id": "c5c61c0e-72a2-4344-a384-030d4ddc04ee",
   "metadata": {},
   "source": [
    "- **Handling Non-Standard Characters in Names**: Removes unwanted characters in the 'name' column, leaving only alphabetical characters, hyphens, and spaces."
   ]
  },
  {
   "cell_type": "code",
   "execution_count": 4,
   "id": "ed1a255e-6f60-4816-a46d-a8c9dacc8252",
   "metadata": {},
   "outputs": [],
   "source": [
    "customer_list['name'] = customer_list['name'].str.replace(r'[^a-zA-Z\\-\\.\\s]', '', regex=True)\n"
   ]
  },
  {
   "cell_type": "markdown",
   "id": "42f6e343-1740-4d8a-a553-fab3a0e93fd0",
   "metadata": {},
   "source": [
    "- **Formatting Phone Numbers**: Standardizes phone numbers to a consistent `NNN-NNN-NNNN` format."
   ]
  },
  {
   "cell_type": "code",
   "execution_count": 5,
   "id": "a50ad4e6-79bb-4d41-b37f-b0354facec52",
   "metadata": {},
   "outputs": [],
   "source": [
    "customer_list['phone'] = customer_list['phone'].str.replace(r'(\\d{3})(\\d{3})(\\d{4})', r'\\1-\\2-\\3', regex=True)\n"
   ]
  },
  {
   "cell_type": "markdown",
   "id": "5b8e0c82-a000-406f-bc10-7a96e4e795b1",
   "metadata": {},
   "source": [
    "- **Handling Missing SMS Opt-Out Values**: Fills any missing values in 'sms-opt-out' with 'N' (No) to ensure consistency in the data."
   ]
  },
  {
   "cell_type": "code",
   "execution_count": 6,
   "id": "ba43fc63-9f40-435e-89cc-5cc51a8757c6",
   "metadata": {},
   "outputs": [],
   "source": [
    "customer_list['sms-opt-out'] = customer_list['sms-opt-out'].fillna('N')\n"
   ]
  },
  {
   "cell_type": "code",
   "execution_count": 7,
   "id": "676fa417-b70a-489d-af96-55a3506c64e7",
   "metadata": {},
   "outputs": [
    {
     "name": "stdout",
     "output_type": "stream",
     "text": [
      "\n",
      "Cleaned Data:\n",
      "   cust_id        date      time           name  \\\n",
      "0        1  2023-03-15  08:45:12         Rachel   \n",
      "1        2  2023-05-22  12:30:45       R Geller   \n",
      "2        3  2023-07-09  18:15:27  Monica Geller   \n",
      "3        4  2023-09-01  21:05:33  Chandler Bing   \n",
      "4        5  2023-11-18  14:22:10           Joey   \n",
      "\n",
      "                            email         phone sms-opt-out  \n",
      "0       rachel@centralperk.coffee  212-555-1001           N  \n",
      "1        rossg@centralperk.coffee  212-555-1002           N  \n",
      "2   chefmonica@centralperk.coffee  212-555-1003           N  \n",
      "3    chandlerb@centralperk.coffee  212-555-1004           Y  \n",
      "4  howyoudoing@centralperk.coffee  212-555-1005           N  \n"
     ]
    }
   ],
   "source": [
    "print(\"\\nCleaned Data:\")\n",
    "print(customer_list.head())\n"
   ]
  },
  {
   "cell_type": "markdown",
   "id": "f5ea8e18-1ecd-4e03-9473-0ab1286141ad",
   "metadata": {},
   "source": [
    "### saving the cleaned customer_list"
   ]
  },
  {
   "cell_type": "code",
   "execution_count": 8,
   "id": "654ae29e-88e1-49be-a63b-56fbf5c8064d",
   "metadata": {},
   "outputs": [],
   "source": [
    "customer_list.to_csv('cleaned_customer_list.csv', index=False)\n"
   ]
  },
  {
   "cell_type": "markdown",
   "id": "42cb7db1-b626-4001-9d4b-d351443796d6",
   "metadata": {},
   "source": [
    "### Comparison of Original and Cleaned Data\n",
    "Here, we compare specific columns from the original and cleaned datasets to verify the effectiveness of our data cleaning steps. This includes comparisons for 'name', 'phone', and 'sms-opt-out' in the customer list, as well as 'Date' and 'Product Name' in the transaction list.\n"
   ]
  },
  {
   "cell_type": "code",
   "execution_count": 9,
   "id": "88f67978-baff-4fc4-ab5c-7493e6a00919",
   "metadata": {},
   "outputs": [],
   "source": [
    "# Loading the original and cleaned data\n",
    "original_customer_list = pd.read_csv('customer_list_updated.csv', delimiter='|')\n",
    "cleaned_customer_list = pd.read_csv('cleaned_customer_list.csv')\n"
   ]
  },
  {
   "cell_type": "code",
   "execution_count": 10,
   "id": "64772dfb-c23c-4fcd-8ce9-a8736a892f48",
   "metadata": {},
   "outputs": [
    {
     "data": {
      "text/html": [
       "<div>\n",
       "<style scoped>\n",
       "    .dataframe tbody tr th:only-of-type {\n",
       "        vertical-align: middle;\n",
       "    }\n",
       "\n",
       "    .dataframe tbody tr th {\n",
       "        vertical-align: top;\n",
       "    }\n",
       "\n",
       "    .dataframe thead th {\n",
       "        text-align: right;\n",
       "    }\n",
       "</style>\n",
       "<table border=\"1\" class=\"dataframe\">\n",
       "  <thead>\n",
       "    <tr style=\"text-align: right;\">\n",
       "      <th></th>\n",
       "      <th>Original Name</th>\n",
       "      <th>Cleaned Name</th>\n",
       "      <th>Original Phone</th>\n",
       "      <th>Cleaned Phone</th>\n",
       "      <th>Original SMS Opt-Out</th>\n",
       "      <th>Cleaned SMS Opt-Out</th>\n",
       "    </tr>\n",
       "  </thead>\n",
       "  <tbody>\n",
       "    <tr>\n",
       "      <th>0</th>\n",
       "      <td>Rachel</td>\n",
       "      <td>Rachel</td>\n",
       "      <td>212-555-1001</td>\n",
       "      <td>212-555-1001</td>\n",
       "      <td>N/A</td>\n",
       "      <td>N</td>\n",
       "    </tr>\n",
       "    <tr>\n",
       "      <th>1</th>\n",
       "      <td>R&amp;! Geller</td>\n",
       "      <td>R Geller</td>\n",
       "      <td>212-555-1002</td>\n",
       "      <td>212-555-1002</td>\n",
       "      <td>N/A</td>\n",
       "      <td>N</td>\n",
       "    </tr>\n",
       "    <tr>\n",
       "      <th>2</th>\n",
       "      <td>Monica Geller</td>\n",
       "      <td>Monica Geller</td>\n",
       "      <td>212-555-1003</td>\n",
       "      <td>212-555-1003</td>\n",
       "      <td>N/A</td>\n",
       "      <td>N</td>\n",
       "    </tr>\n",
       "    <tr>\n",
       "      <th>3</th>\n",
       "      <td>Chandler Bing</td>\n",
       "      <td>Chandler Bing</td>\n",
       "      <td>212-555-1004</td>\n",
       "      <td>212-555-1004</td>\n",
       "      <td>N/A</td>\n",
       "      <td>Y</td>\n",
       "    </tr>\n",
       "    <tr>\n",
       "      <th>4</th>\n",
       "      <td>Joey</td>\n",
       "      <td>Joey</td>\n",
       "      <td>212-555-1005</td>\n",
       "      <td>212-555-1005</td>\n",
       "      <td>N/A</td>\n",
       "      <td>N</td>\n",
       "    </tr>\n",
       "    <tr>\n",
       "      <th>5</th>\n",
       "      <td>P&amp;! Buffay</td>\n",
       "      <td>P Buffay</td>\n",
       "      <td>212-555-1006</td>\n",
       "      <td>212-555-1006</td>\n",
       "      <td>N/A</td>\n",
       "      <td>N</td>\n",
       "    </tr>\n",
       "    <tr>\n",
       "      <th>6</th>\n",
       "      <td>Gunther</td>\n",
       "      <td>Gunther</td>\n",
       "      <td>212-555-1007</td>\n",
       "      <td>212-555-1007</td>\n",
       "      <td>N/A</td>\n",
       "      <td>N</td>\n",
       "    </tr>\n",
       "    <tr>\n",
       "      <th>7</th>\n",
       "      <td>Janice</td>\n",
       "      <td>Janice</td>\n",
       "      <td>212-555-1008</td>\n",
       "      <td>212-555-1008</td>\n",
       "      <td>N/A</td>\n",
       "      <td>N</td>\n",
       "    </tr>\n",
       "    <tr>\n",
       "      <th>8</th>\n",
       "      <td>Mike H.^</td>\n",
       "      <td>Mike H.</td>\n",
       "      <td>212-555-1009</td>\n",
       "      <td>212-555-1009</td>\n",
       "      <td>N/A</td>\n",
       "      <td>N</td>\n",
       "    </tr>\n",
       "    <tr>\n",
       "      <th>9</th>\n",
       "      <td>Emily</td>\n",
       "      <td>Emily</td>\n",
       "      <td>212-555-1010</td>\n",
       "      <td>212-555-1010</td>\n",
       "      <td>N/A</td>\n",
       "      <td>N</td>\n",
       "    </tr>\n",
       "  </tbody>\n",
       "</table>\n",
       "</div>"
      ],
      "text/plain": [
       "   Original Name   Cleaned Name Original Phone Cleaned Phone  \\\n",
       "0         Rachel         Rachel   212-555-1001  212-555-1001   \n",
       "1     R&! Geller       R Geller   212-555-1002  212-555-1002   \n",
       "2  Monica Geller  Monica Geller   212-555-1003  212-555-1003   \n",
       "3  Chandler Bing  Chandler Bing   212-555-1004  212-555-1004   \n",
       "4           Joey           Joey   212-555-1005  212-555-1005   \n",
       "5     P&! Buffay       P Buffay   212-555-1006  212-555-1006   \n",
       "6        Gunther        Gunther   212-555-1007  212-555-1007   \n",
       "7         Janice         Janice   212-555-1008  212-555-1008   \n",
       "8       Mike H.^        Mike H.   212-555-1009  212-555-1009   \n",
       "9          Emily          Emily   212-555-1010  212-555-1010   \n",
       "\n",
       "  Original SMS Opt-Out Cleaned SMS Opt-Out  \n",
       "0                  N/A                   N  \n",
       "1                  N/A                   N  \n",
       "2                  N/A                   N  \n",
       "3                  N/A                   Y  \n",
       "4                  N/A                   N  \n",
       "5                  N/A                   N  \n",
       "6                  N/A                   N  \n",
       "7                  N/A                   N  \n",
       "8                  N/A                   N  \n",
       "9                  N/A                   N  "
      ]
     },
     "execution_count": 10,
     "metadata": {},
     "output_type": "execute_result"
    }
   ],
   "source": [
    "# Create a comparison DataFrame to view before and after cleaning\n",
    "comparison = pd.DataFrame({\n",
    "    \"Original Name\": original_customer_list['name'],\n",
    "    \"Cleaned Name\": cleaned_customer_list['name'],\n",
    "    \"Original Phone\": original_customer_list['phone'],\n",
    "    \"Cleaned Phone\": cleaned_customer_list['phone'],\n",
    "    \"Original SMS Opt-Out\": original_customer_list.get('sms-opt-out', 'N/A'),\n",
    "    \"Cleaned SMS Opt-Out\": cleaned_customer_list['sms-opt-out']\n",
    "})\n",
    "\n",
    "comparison.head(10)\n"
   ]
  },
  {
   "cell_type": "markdown",
   "id": "8f29b690-fb56-42d7-96b9-a853c1fb929e",
   "metadata": {},
   "source": [
    "### Transaction Data Cleaning"
   ]
  },
  {
   "cell_type": "markdown",
   "id": "ec29bb55-1dfb-4c6d-b957-e2b112e6c5f8",
   "metadata": {},
   "source": [
    "- **Date Conversion**: Converts the 'Date' column to a datetime format to facilitate time-based analysis."
   ]
  },
  {
   "cell_type": "code",
   "execution_count": 11,
   "id": "9edd221e-af86-4ef7-a6eb-2151ecb573ce",
   "metadata": {},
   "outputs": [],
   "source": [
    "transaction_data['Date'] = pd.to_datetime(transaction_data['Date'], errors='coerce')\n"
   ]
  },
  {
   "cell_type": "markdown",
   "id": "6b8e64cc-4b52-4067-b0b6-c5b1c1013c98",
   "metadata": {},
   "source": [
    "- **Duplicate Removal**: Ensures no duplicate entries exist, preserving data integrity."
   ]
  },
  {
   "cell_type": "code",
   "execution_count": 12,
   "id": "744baeaa-121c-40dd-9769-11ee96a374d2",
   "metadata": {},
   "outputs": [],
   "source": [
    "transaction_data = transaction_data.drop_duplicates()\n"
   ]
  },
  {
   "cell_type": "markdown",
   "id": "88f40299-6d81-4344-8937-872923bc1971",
   "metadata": {},
   "source": [
    "- **Missing Values Check**: Identifies any columns with missing values that might require further cleaning."
   ]
  },
  {
   "cell_type": "code",
   "execution_count": 13,
   "id": "36b2fa39-5e06-49aa-8894-074c87f5b66a",
   "metadata": {},
   "outputs": [
    {
     "name": "stdout",
     "output_type": "stream",
     "text": [
      "Missing values per column:\n",
      " TransactionID    0\n",
      "CustID           0\n",
      "Date             0\n",
      "Employee         0\n",
      "ProductID        0\n",
      "ProductName      0\n",
      "VendorID         0\n",
      "ProductVendor    0\n",
      "UnitPrice        0\n",
      "Quantity         0\n",
      "Subtotal         0\n",
      "Tax(8%)          0\n",
      "OrderTotal       0\n",
      "dtype: int64\n"
     ]
    }
   ],
   "source": [
    "missing_data = transaction_data.isnull().sum()\n",
    "print(\"Missing values per column:\\n\", missing_data)\n",
    "\n"
   ]
  },
  {
   "cell_type": "markdown",
   "id": "b16c1335-eef4-47a2-af00-6f46f99a8b4a",
   "metadata": {},
   "source": [
    "### Saving the cleaned data to a new CSV file"
   ]
  },
  {
   "cell_type": "code",
   "execution_count": 14,
   "id": "180cd798-55c2-4daa-b603-da430fa38983",
   "metadata": {},
   "outputs": [],
   "source": [
    "transaction_data.to_csv('cleaned_transaction_data.csv', index=False)\n"
   ]
  },
  {
   "cell_type": "markdown",
   "id": "b37a384b-a980-43af-9951-a30ae84c8214",
   "metadata": {},
   "source": [
    "## comparison between the orignal and cleaned transaction data"
   ]
  },
  {
   "cell_type": "code",
   "execution_count": 15,
   "id": "02416886-d66b-41a5-9e29-298b24043467",
   "metadata": {},
   "outputs": [
    {
     "name": "stdout",
     "output_type": "stream",
     "text": [
      "First 5 Rows - Date and Product Name Comparison:\n",
      "  Original Date Cleaned Date   Original Product Name    Cleaned Product Name\n",
      "0     7/17/2023   2023-07-17      Mascarpone Fabioli      Mascarpone Fabioli\n",
      "1      8/7/2023   2023-08-07        Guaran Fantstica        Guaran Fantstica\n",
      "2      8/7/2023   2023-08-07    Raclette Courdavault    Raclette Courdavault\n",
      "3     8/28/2023   2023-08-28  Sir Rodney's Marmalade  Sir Rodney's Marmalade\n",
      "4     8/29/2023   2023-08-29        Carnarvon Tigers        Carnarvon Tigers\n",
      "\n",
      "Last 5 Rows - Date and Product Name Comparison:\n",
      "     Original Date Cleaned Date Original Product Name Cleaned Product Name\n",
      "1348     4/10/2025   2025-04-10     Gorgonzola Telino    Gorgonzola Telino\n",
      "1349     4/10/2025   2025-04-10           Inlagd Sill          Inlagd Sill\n",
      "1350     4/29/2025   2025-04-29   Sir Rodney's Scones  Sir Rodney's Scones\n",
      "1351     4/29/2025   2025-04-29     Camembert Pierrot    Camembert Pierrot\n",
      "1352     4/29/2025   2025-04-29         Sirop d'rable        Sirop d'rable\n"
     ]
    }
   ],
   "source": [
    "# Loading the original and cleaned transaction data files\n",
    "original_transaction_data = pd.read_csv('transaction_data.csv')\n",
    "cleaned_transaction_data = pd.read_csv('cleaned_transaction_data.csv')\n",
    "\n",
    "# a comparison DataFrame for Date and Product Name columns\n",
    "comparison = pd.DataFrame({\n",
    "    \"Original Date\": original_transaction_data['Date'],\n",
    "    \"Cleaned Date\": cleaned_transaction_data['Date'],\n",
    "    \"Original Product Name\": original_transaction_data['ProductName'],\n",
    "    \"Cleaned Product Name\": cleaned_transaction_data['ProductName']\n",
    "})\n",
    "\n",
    "# the first 5 rows and last 5 rows of the comparison to see changes in Date and Product Name\n",
    "print(\"First 5 Rows - Date and Product Name Comparison:\")\n",
    "print(comparison.head())\n",
    "\n",
    "print(\"\\nLast 5 Rows - Date and Product Name Comparison:\")\n",
    "print(comparison.tail())"
   ]
  },
  {
   "cell_type": "markdown",
   "id": "3529e64c-248f-4ad5-86ac-0c47df4ca795",
   "metadata": {},
   "source": [
    "## Analysis and Visualization\n",
    "We perform analysis to reveal key insights about monthly sales trends, top products by revenue, and top customers by spending. These analyses help in understanding customer behavior and identifying revenue-driving products and customers.\n"
   ]
  },
  {
   "cell_type": "markdown",
   "id": "477c729e-cd28-40bc-ac29-d546c7135a9d",
   "metadata": {},
   "source": [
    "### Data Presentation and Initial Summary"
   ]
  },
  {
   "cell_type": "code",
   "execution_count": 16,
   "id": "a9e097a2-bfb7-4fe7-8a70-71153e53710b",
   "metadata": {},
   "outputs": [
    {
     "name": "stdout",
     "output_type": "stream",
     "text": [
      "Top 10 Rows of the Cleaned Data:\n",
      "   TransactionID  CustID        Date       Employee  ProductID  \\\n",
      "0          10258       1  2023-07-17  Nancy Davolio         32   \n",
      "1          10275       2  2023-08-07  Nancy Davolio         24   \n",
      "2          10275       2  2023-08-07  Nancy Davolio         59   \n",
      "3          10292       3  2023-08-28  Nancy Davolio         20   \n",
      "4          10293       4  2023-08-29  Nancy Davolio         18   \n",
      "5          10293       4  2023-08-29  Nancy Davolio         24   \n",
      "6          10293       4  2023-08-29  Nancy Davolio         63   \n",
      "7          10293       4  2023-08-29  Nancy Davolio         75   \n",
      "8          10304       4  2023-09-12  Nancy Davolio         59   \n",
      "9          10304       4  2023-09-12  Nancy Davolio         71   \n",
      "\n",
      "              ProductName  VendorID                    ProductVendor  \\\n",
      "0      Mascarpone Fabioli        14          Formaggi Fortini s.r.l.   \n",
      "1        Guaran Fantstica        10        Refrescos Americanas LTDA   \n",
      "2    Raclette Courdavault        28                      Gai pturage   \n",
      "3  Sir Rodney's Marmalade         8         Specialty Biscuits, Ltd.   \n",
      "4        Carnarvon Tigers         7                    Pavlova, Ltd.   \n",
      "5        Guaran Fantstica        10        Refrescos Americanas LTDA   \n",
      "6            Vegie-spread         7                    Pavlova, Ltd.   \n",
      "7      Rhnbru Klosterbier        12  Plutzer Lebensmittelgromrkte AG   \n",
      "8    Raclette Courdavault        28                      Gai pturage   \n",
      "9             Flotemysost        15                  Norske Meierier   \n",
      "\n",
      "   UnitPrice  Quantity  Subtotal  Tax(8%)  OrderTotal  \n",
      "0       25.6         6     153.6    12.29      165.89  \n",
      "1        3.6        12      43.2     3.46       46.66  \n",
      "2       44.0         6     264.0    21.12      285.12  \n",
      "3       64.8        20    1296.0   103.68     1399.68  \n",
      "4       50.0        12     600.0    48.00      648.00  \n",
      "5        3.6        10      36.0     2.88       38.88  \n",
      "6       35.1         5     175.5    14.04      189.54  \n",
      "7        6.2         6      37.2     2.98       40.18  \n",
      "8       44.0        10     440.0    35.20      475.20  \n",
      "9       17.2         2      34.4     2.75       37.15  \n"
     ]
    }
   ],
   "source": [
    "# Display the first 10 rows\n",
    "print(\"Top 10 Rows of the Cleaned Data:\")\n",
    "print(cleaned_transaction_data.head(10))\n",
    "\n",
    "\n"
   ]
  },
  {
   "cell_type": "markdown",
   "id": "6c356990-ff8b-4de5-81d9-5c3e54dab991",
   "metadata": {},
   "source": [
    "### Statistical summary"
   ]
  },
  {
   "cell_type": "code",
   "execution_count": 17,
   "id": "84868d16-69ad-42a1-8d55-4b3df015073a",
   "metadata": {},
   "outputs": [
    {
     "name": "stdout",
     "output_type": "stream",
     "text": [
      "\n",
      "Statistical Summary:\n",
      "       TransactionID       CustID    ProductID     VendorID    UnitPrice  \\\n",
      "count    1353.000000  1353.000000  1353.000000  1353.000000  1353.000000   \n",
      "mean    10661.179601    38.942350    40.389505    14.318551    25.908899   \n",
      "std       243.094311    25.056615    22.277628     8.217175    28.613063   \n",
      "min     10248.000000     1.000000     1.000000     1.000000     2.000000   \n",
      "25%     10454.000000    17.000000    21.000000     7.000000    12.000000   \n",
      "50%     10656.000000    35.000000    41.000000    14.000000    18.400000   \n",
      "75%     10864.000000    60.000000    60.000000    21.000000    31.230000   \n",
      "max     11077.000000    89.000000    77.000000    29.000000   263.500000   \n",
      "\n",
      "          Quantity     Subtotal      Tax(8%)   OrderTotal  \n",
      "count  1353.000000  1353.000000  1353.000000  1353.000000  \n",
      "mean     12.631929   324.537568    25.962971   350.500540  \n",
      "std       6.395421   403.982507    32.318600   436.301107  \n",
      "min       1.000000     4.800000     0.380000     5.180000  \n",
      "25%       7.000000   100.000000     8.000000   108.000000  \n",
      "50%      12.000000   210.000000    16.800000   226.800000  \n",
      "75%      20.000000   394.000000    31.520000   425.520000  \n",
      "max      24.000000  4216.000000   337.280000  4553.280000  \n"
     ]
    }
   ],
   "source": [
    "print(\"\\nStatistical Summary:\")\n",
    "print(cleaned_transaction_data.describe())"
   ]
  },
  {
   "cell_type": "markdown",
   "id": "1c3bcc81-d6f0-4df8-9921-bf4e88c7a336",
   "metadata": {},
   "source": [
    "## Monthly Sales Analysis"
   ]
  },
  {
   "cell_type": "markdown",
   "id": "9522ce00-6646-4d18-a4d3-b7476bd3372d",
   "metadata": {},
   "source": [
    " ### Creating a 'Month' column"
   ]
  },
  {
   "cell_type": "code",
   "execution_count": 18,
   "id": "f6257e96-3962-4398-b7b4-ab7e0afc67c7",
   "metadata": {},
   "outputs": [],
   "source": [
    "# 'Date' column is in datetime format\n",
    "cleaned_transaction_data['Date'] = pd.to_datetime(cleaned_transaction_data['Date'], errors='coerce')\n",
    "cleaned_transaction_data['Month'] = cleaned_transaction_data['Date'].dt.to_period('M')\n"
   ]
  },
  {
   "cell_type": "markdown",
   "id": "451554dc-b02f-4c2c-bddc-d1797846a3db",
   "metadata": {},
   "source": [
    "### Aggregating monthly sales"
   ]
  },
  {
   "cell_type": "code",
   "execution_count": 19,
   "id": "b6fd5bf7-1653-4a98-9bbd-0c524b7dca2f",
   "metadata": {},
   "outputs": [
    {
     "name": "stdout",
     "output_type": "stream",
     "text": [
      "Monthly Sales:\n",
      "Month\n",
      "2023-07     8929.43\n",
      "2023-08    17330.78\n",
      "2023-09    10119.39\n",
      "2023-10    14613.79\n",
      "2023-11    15535.69\n",
      "2023-12    18928.53\n",
      "2024-01    14458.29\n",
      "2024-02    13346.52\n",
      "2024-03    13272.13\n",
      "2024-04    18889.72\n",
      "2024-05    20510.49\n",
      "2024-06    19929.77\n",
      "2024-07    20016.86\n",
      "2024-08    23449.16\n",
      "2024-09    22817.26\n",
      "2024-10    21975.34\n",
      "2024-11    20386.00\n",
      "2024-12    33190.03\n",
      "2025-01    35392.37\n",
      "2025-02    26282.61\n",
      "2025-03    39721.26\n",
      "2025-04    38457.68\n",
      "2025-05     6674.13\n",
      "Freq: M, Name: OrderTotal, dtype: float64\n"
     ]
    }
   ],
   "source": [
    "monthly_sales = cleaned_transaction_data.groupby('Month')['OrderTotal'].sum()\n",
    "\n",
    "print(\"Monthly Sales:\")\n",
    "print(monthly_sales)"
   ]
  },
  {
   "cell_type": "markdown",
   "id": "3ea47f53-2b9b-4d8b-8e39-48c48b3d41c3",
   "metadata": {},
   "source": [
    "### Plot monthly sales trend"
   ]
  },
  {
   "cell_type": "code",
   "execution_count": 20,
   "id": "caefbcde-a53e-49db-971e-e4589a910ef3",
   "metadata": {},
   "outputs": [
    {
     "data": {
      "image/png": "[encoded data removed]",
      "text/plain": [
       "<Figure size 1000x500 with 1 Axes>"
      ]
     },
     "metadata": {},
     "output_type": "display_data"
    }
   ],
   "source": [
    "monthly_sales.plot(kind='line',  marker='o',markerfacecolor='red', title=\"Monthly Sales Trend\", xlabel=\"Month\", ylabel=\"Total Sales\", figsize=(10, 5))\n",
    "plt.show()\n"
   ]
  },
  {
   "cell_type": "markdown",
   "id": "bb37a6b9-838b-4f2a-a872-d3f72e8bf1fd",
   "metadata": {},
   "source": [
    "#### Top 5 Products by Revenue"
   ]
  },
  {
   "cell_type": "code",
   "execution_count": 21,
   "id": "dda662e3-05a7-435f-9799-19b3237e45bc",
   "metadata": {},
   "outputs": [
    {
     "name": "stdout",
     "output_type": "stream",
     "text": [
      "\n",
      "Top 5 Products by Revenue:\n",
      "ProductName\n",
      "Thringer Rostbratwurst    39943.16\n",
      "Cte de Blaye              33865.02\n",
      "Tarte au sucre            18876.56\n",
      "Manjimup Dried Apples     17618.48\n",
      "Gnocchi di nonna Alice    17400.96\n",
      "Name: OrderTotal, dtype: float64\n"
     ]
    }
   ],
   "source": [
    "top_products = cleaned_transaction_data.groupby('ProductName')['OrderTotal'].sum().sort_values(ascending=False).head(5)\n",
    "print(\"\\nTop 5 Products by Revenue:\")\n",
    "print(top_products)"
   ]
  },
  {
   "cell_type": "markdown",
   "id": "5b9063dc-80a4-41ec-b218-856f632ab6e0",
   "metadata": {},
   "source": [
    "#### Plot top 5 products by revenue"
   ]
  },
  {
   "cell_type": "code",
   "execution_count": 22,
   "id": "8aeb807f-850c-4ef5-8d28-5fbd27ed2179",
   "metadata": {},
   "outputs": [
    {
     "data": {
      "image/png": "[encoded data removed]",
      "text/plain": [
       "<Figure size 1000x500 with 1 Axes>"
      ]
     },
     "metadata": {},
     "output_type": "display_data"
    }
   ],
   "source": [
    "\n",
    "top_products.plot(kind='bar', title=\"Top 5 Products by Revenue\", xlabel=\"Product\", ylabel=\"Total Revenue\", figsize=(10, 5))\n",
    "plt.show()\n"
   ]
  },
  {
   "cell_type": "markdown",
   "id": "5cca0b1c-15a0-4649-a4b4-1fc2294b5e6a",
   "metadata": {},
   "source": [
    "### Top Customers by Spending"
   ]
  },
  {
   "cell_type": "code",
   "execution_count": 23,
   "id": "c580aca1-e4e7-4480-81fa-aeb8c1efc2ef",
   "metadata": {},
   "outputs": [
    {
     "name": "stdout",
     "output_type": "stream",
     "text": [
      "\n",
      "Top 10 Customers by Spending:\n",
      "CustID\n",
      "27    16291.91\n",
      "1     16253.45\n",
      "17    13460.68\n",
      "15    13234.00\n",
      "80    12985.40\n",
      "9     12348.12\n",
      "59    12111.98\n",
      "4     10611.17\n",
      "8     10443.49\n",
      "58     9445.89\n",
      "Name: OrderTotal, dtype: float64\n"
     ]
    }
   ],
   "source": [
    "customer_spending = cleaned_transaction_data.groupby('CustID')['OrderTotal'].sum().sort_values(ascending=False).head(10)\n",
    "\n",
    "print(\"\\nTop 10 Customers by Spending:\")\n",
    "print(customer_spending)\n"
   ]
  },
  {
   "cell_type": "markdown",
   "id": "492dd47d-33a6-4ce5-b58a-7a747d0c69f9",
   "metadata": {},
   "source": [
    "### Plot top customers by spending"
   ]
  },
  {
   "cell_type": "code",
   "execution_count": 24,
   "id": "af7abbe8-ec3e-43cc-b170-3502878dc0ec",
   "metadata": {},
   "outputs": [
    {
     "data": {
      "image/png": "[encoded data removed]",
      "text/plain": [
       "<Figure size 1000x500 with 1 Axes>"
      ]
     },
     "metadata": {},
     "output_type": "display_data"
    }
   ],
   "source": [
    "customer_spending.plot(kind='bar', title=\"Top 10 Customers by Spending\", xlabel=\"Customer ID\", ylabel=\"Total Spending\", figsize=(10, 5))\n",
    "plt.show()\n"
   ]
  },
  {
   "cell_type": "code",
   "execution_count": null,
   "id": "d55919d7-4e81-44f9-b025-3c65e9ebd125",
   "metadata": {},
   "outputs": [],
   "source": []
  }
 ],
 "metadata": {
  "kernelspec": {
   "display_name": "Python 3 (ipykernel)",
   "language": "python",
   "name": "python3"
  },
  "language_info": {
   "codemirror_mode": {
    "name": "ipython",
    "version": 3
   },
   "file_extension": ".py",
   "mimetype": "text/x-python",
   "name": "python",
   "nbconvert_exporter": "python",
   "pygments_lexer": "ipython3",
   "version": "3.12.6"
  }
 },
 "nbformat": 4,
 "nbformat_minor": 5
}
