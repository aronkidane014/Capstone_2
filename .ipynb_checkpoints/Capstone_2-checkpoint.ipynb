{
 "cells": [
  {
   "cell_type": "code",
   "execution_count": 1,
   "id": "d7055a55-0cec-4ff9-93b8-4cdb371f6e53",
   "metadata": {},
   "outputs": [],
   "source": [
    "import pandas as pd\n",
    "import numpy as np\n",
    "import matplotlib.pyplot as plt"
   ]
  },
  {
   "cell_type": "markdown",
   "id": "0ea6e23e-623c-4400-8fad-f8e9e0a73742",
   "metadata": {},
   "source": [
    "# importing the data"
   ]
  },
  {
   "cell_type": "code",
   "execution_count": 2,
   "id": "200812a9-e87f-4cf8-9e85-dceedab82230",
   "metadata": {},
   "outputs": [],
   "source": [
    "# importing transaction data\n",
    "transaction_data = pd.read_csv('transaction_data.csv')"
   ]
  },
  {
   "cell_type": "code",
   "execution_count": 3,
   "id": "72247973-65ea-4003-b805-74e1a4f0f777",
   "metadata": {},
   "outputs": [],
   "source": [
    "# importing customer list\n",
    "customer_list = pd.read_csv('customer_list_updated.csv')"
   ]
  },
  {
   "cell_type": "markdown",
   "id": "fecfc41c-31db-4635-814a-9dc1efb35086",
   "metadata": {},
   "source": [
    "# viewing the data "
   ]
  },
  {
   "cell_type": "code",
   "execution_count": 6,
   "id": "234cf9f5-4f09-4c97-be21-ba43989286fc",
   "metadata": {},
   "outputs": [
    {
     "name": "stdout",
     "output_type": "stream",
     "text": [
      "<class 'pandas.core.frame.DataFrame'>\n",
      "RangeIndex: 1353 entries, 0 to 1352\n",
      "Data columns (total 13 columns):\n",
      " #   Column         Non-Null Count  Dtype  \n",
      "---  ------         --------------  -----  \n",
      " 0   TransactionID  1353 non-null   int64  \n",
      " 1   CustID         1353 non-null   int64  \n",
      " 2   Date           1353 non-null   object \n",
      " 3   Employee       1353 non-null   object \n",
      " 4   ProductID      1353 non-null   int64  \n",
      " 5   ProductName    1353 non-null   object \n",
      " 6   VendorID       1353 non-null   int64  \n",
      " 7   ProductVendor  1353 non-null   object \n",
      " 8   UnitPrice      1353 non-null   float64\n",
      " 9   Quantity       1353 non-null   int64  \n",
      " 10  Subtotal       1353 non-null   float64\n",
      " 11  Tax(8%)        1353 non-null   float64\n",
      " 12  OrderTotal     1353 non-null   float64\n",
      "dtypes: float64(4), int64(5), object(4)\n",
      "memory usage: 137.5+ KB\n"
     ]
    }
   ],
   "source": [
    "# information about transaction_data, data type\n",
    "transaction_data.info()\n"
   ]
  },
  {
   "cell_type": "code",
   "execution_count": 7,
   "id": "14fa5c32-2e9e-4365-bdf4-92377e111276",
   "metadata": {},
   "outputs": [
    {
     "name": "stdout",
     "output_type": "stream",
     "text": [
      "<class 'pandas.core.frame.DataFrame'>\n",
      "RangeIndex: 521 entries, 0 to 520\n",
      "Data columns (total 1 columns):\n",
      " #   Column                                           Non-Null Count  Dtype \n",
      "---  ------                                           --------------  ----- \n",
      " 0   cust_id|date|time|name|email|phone|sms-opt-out   521 non-null    object\n",
      "dtypes: object(1)\n",
      "memory usage: 4.2+ KB\n"
     ]
    }
   ],
   "source": [
    "# information about customer, data type\n",
    "customer_list.info()\n"
   ]
  },
  {
   "cell_type": "code",
   "execution_count": 8,
   "id": "20b5f75f-12d9-40a7-b84f-38bf39c77b26",
   "metadata": {},
   "outputs": [
    {
     "data": {
      "text/html": [
       "<div>\n",
       "<style scoped>\n",
       "    .dataframe tbody tr th:only-of-type {\n",
       "        vertical-align: middle;\n",
       "    }\n",
       "\n",
       "    .dataframe tbody tr th {\n",
       "        vertical-align: top;\n",
       "    }\n",
       "\n",
       "    .dataframe thead th {\n",
       "        text-align: right;\n",
       "    }\n",
       "</style>\n",
       "<table border=\"1\" class=\"dataframe\">\n",
       "  <thead>\n",
       "    <tr style=\"text-align: right;\">\n",
       "      <th></th>\n",
       "      <th>TransactionID</th>\n",
       "      <th>CustID</th>\n",
       "      <th>Date</th>\n",
       "      <th>Employee</th>\n",
       "      <th>ProductID</th>\n",
       "      <th>ProductName</th>\n",
       "      <th>VendorID</th>\n",
       "      <th>ProductVendor</th>\n",
       "      <th>UnitPrice</th>\n",
       "      <th>Quantity</th>\n",
       "      <th>Subtotal</th>\n",
       "      <th>Tax(8%)</th>\n",
       "      <th>OrderTotal</th>\n",
       "    </tr>\n",
       "  </thead>\n",
       "  <tbody>\n",
       "    <tr>\n",
       "      <th>0</th>\n",
       "      <td>10258</td>\n",
       "      <td>1</td>\n",
       "      <td>7/17/2023</td>\n",
       "      <td>Nancy Davolio</td>\n",
       "      <td>32</td>\n",
       "      <td>Mascarpone Fabioli</td>\n",
       "      <td>14</td>\n",
       "      <td>Formaggi Fortini s.r.l.</td>\n",
       "      <td>25.6</td>\n",
       "      <td>6</td>\n",
       "      <td>153.6</td>\n",
       "      <td>12.29</td>\n",
       "      <td>165.89</td>\n",
       "    </tr>\n",
       "    <tr>\n",
       "      <th>1</th>\n",
       "      <td>10275</td>\n",
       "      <td>2</td>\n",
       "      <td>8/7/2023</td>\n",
       "      <td>Nancy Davolio</td>\n",
       "      <td>24</td>\n",
       "      <td>Guaran Fantstica</td>\n",
       "      <td>10</td>\n",
       "      <td>Refrescos Americanas LTDA</td>\n",
       "      <td>3.6</td>\n",
       "      <td>12</td>\n",
       "      <td>43.2</td>\n",
       "      <td>3.46</td>\n",
       "      <td>46.66</td>\n",
       "    </tr>\n",
       "    <tr>\n",
       "      <th>2</th>\n",
       "      <td>10275</td>\n",
       "      <td>2</td>\n",
       "      <td>8/7/2023</td>\n",
       "      <td>Nancy Davolio</td>\n",
       "      <td>59</td>\n",
       "      <td>Raclette Courdavault</td>\n",
       "      <td>28</td>\n",
       "      <td>Gai pturage</td>\n",
       "      <td>44.0</td>\n",
       "      <td>6</td>\n",
       "      <td>264.0</td>\n",
       "      <td>21.12</td>\n",
       "      <td>285.12</td>\n",
       "    </tr>\n",
       "    <tr>\n",
       "      <th>3</th>\n",
       "      <td>10292</td>\n",
       "      <td>3</td>\n",
       "      <td>8/28/2023</td>\n",
       "      <td>Nancy Davolio</td>\n",
       "      <td>20</td>\n",
       "      <td>Sir Rodney's Marmalade</td>\n",
       "      <td>8</td>\n",
       "      <td>Specialty Biscuits, Ltd.</td>\n",
       "      <td>64.8</td>\n",
       "      <td>20</td>\n",
       "      <td>1296.0</td>\n",
       "      <td>103.68</td>\n",
       "      <td>1399.68</td>\n",
       "    </tr>\n",
       "    <tr>\n",
       "      <th>4</th>\n",
       "      <td>10293</td>\n",
       "      <td>4</td>\n",
       "      <td>8/29/2023</td>\n",
       "      <td>Nancy Davolio</td>\n",
       "      <td>18</td>\n",
       "      <td>Carnarvon Tigers</td>\n",
       "      <td>7</td>\n",
       "      <td>Pavlova, Ltd.</td>\n",
       "      <td>50.0</td>\n",
       "      <td>12</td>\n",
       "      <td>600.0</td>\n",
       "      <td>48.00</td>\n",
       "      <td>648.00</td>\n",
       "    </tr>\n",
       "  </tbody>\n",
       "</table>\n",
       "</div>"
      ],
      "text/plain": [
       "   TransactionID  CustID       Date       Employee  ProductID  \\\n",
       "0          10258       1  7/17/2023  Nancy Davolio         32   \n",
       "1          10275       2   8/7/2023  Nancy Davolio         24   \n",
       "2          10275       2   8/7/2023  Nancy Davolio         59   \n",
       "3          10292       3  8/28/2023  Nancy Davolio         20   \n",
       "4          10293       4  8/29/2023  Nancy Davolio         18   \n",
       "\n",
       "              ProductName  VendorID              ProductVendor  UnitPrice  \\\n",
       "0      Mascarpone Fabioli        14    Formaggi Fortini s.r.l.       25.6   \n",
       "1        Guaran Fantstica        10  Refrescos Americanas LTDA        3.6   \n",
       "2    Raclette Courdavault        28                Gai pturage       44.0   \n",
       "3  Sir Rodney's Marmalade         8   Specialty Biscuits, Ltd.       64.8   \n",
       "4        Carnarvon Tigers         7              Pavlova, Ltd.       50.0   \n",
       "\n",
       "   Quantity  Subtotal  Tax(8%)  OrderTotal  \n",
       "0         6     153.6    12.29      165.89  \n",
       "1        12      43.2     3.46       46.66  \n",
       "2         6     264.0    21.12      285.12  \n",
       "3        20    1296.0   103.68     1399.68  \n",
       "4        12     600.0    48.00      648.00  "
      ]
     },
     "execution_count": 8,
     "metadata": {},
     "output_type": "execute_result"
    }
   ],
   "source": [
    "transaction_data.head()"
   ]
  },
  {
   "cell_type": "code",
   "execution_count": 9,
   "id": "d07ae37e-a31c-4fac-ba3a-bb023817ef76",
   "metadata": {},
   "outputs": [
    {
     "data": {
      "text/html": [
       "<div>\n",
       "<style scoped>\n",
       "    .dataframe tbody tr th:only-of-type {\n",
       "        vertical-align: middle;\n",
       "    }\n",
       "\n",
       "    .dataframe tbody tr th {\n",
       "        vertical-align: top;\n",
       "    }\n",
       "\n",
       "    .dataframe thead th {\n",
       "        text-align: right;\n",
       "    }\n",
       "</style>\n",
       "<table border=\"1\" class=\"dataframe\">\n",
       "  <thead>\n",
       "    <tr style=\"text-align: right;\">\n",
       "      <th></th>\n",
       "      <th>cust_id|date|time|name|email|phone|sms-opt-out</th>\n",
       "    </tr>\n",
       "  </thead>\n",
       "  <tbody>\n",
       "    <tr>\n",
       "      <th>0</th>\n",
       "      <td>1|2023-03-15|08:45:12|Rachel|rachel@centralper...</td>\n",
       "    </tr>\n",
       "    <tr>\n",
       "      <th>1</th>\n",
       "      <td>2|2023-05-22|12:30:45|R&amp;! Geller|rossg@central...</td>\n",
       "    </tr>\n",
       "    <tr>\n",
       "      <th>2</th>\n",
       "      <td>3|2023-07-09|18:15:27|Monica Geller|chefmonica...</td>\n",
       "    </tr>\n",
       "    <tr>\n",
       "      <th>3</th>\n",
       "      <td>4|2023-09-01|21:05:33|Chandler Bing|chandlerb@...</td>\n",
       "    </tr>\n",
       "    <tr>\n",
       "      <th>4</th>\n",
       "      <td>5|2023-11-18|14:22:10|Joey|howyoudoing@central...</td>\n",
       "    </tr>\n",
       "  </tbody>\n",
       "</table>\n",
       "</div>"
      ],
      "text/plain": [
       "     cust_id|date|time|name|email|phone|sms-opt-out \n",
       "0  1|2023-03-15|08:45:12|Rachel|rachel@centralper...\n",
       "1  2|2023-05-22|12:30:45|R&! Geller|rossg@central...\n",
       "2  3|2023-07-09|18:15:27|Monica Geller|chefmonica...\n",
       "3  4|2023-09-01|21:05:33|Chandler Bing|chandlerb@...\n",
       "4  5|2023-11-18|14:22:10|Joey|howyoudoing@central..."
      ]
     },
     "execution_count": 9,
     "metadata": {},
     "output_type": "execute_result"
    }
   ],
   "source": [
    "customer_list.head()"
   ]
  },
  {
   "cell_type": "code",
   "execution_count": 10,
   "id": "b3031b46-6ae2-4f99-b655-9d65d6f9f0af",
   "metadata": {},
   "outputs": [
    {
     "name": "stdout",
     "output_type": "stream",
     "text": [
      "TransactionID    0\n",
      "CustID           0\n",
      "Date             0\n",
      "Employee         0\n",
      "ProductID        0\n",
      "ProductName      0\n",
      "VendorID         0\n",
      "ProductVendor    0\n",
      "UnitPrice        0\n",
      "Quantity         0\n",
      "Subtotal         0\n",
      "Tax(8%)          0\n",
      "OrderTotal       0\n",
      "dtype: int64\n"
     ]
    }
   ],
   "source": [
    "# Checking for missing values in transaction data\n",
    "print(transaction_data.isnull().sum())"
   ]
  },
  {
   "cell_type": "code",
   "execution_count": 11,
   "id": "90c67ff1-4f65-4f93-99fa-1fa1b775fa15",
   "metadata": {},
   "outputs": [
    {
     "name": "stdout",
     "output_type": "stream",
     "text": [
      "cust_id|date|time|name|email|phone|sms-opt-out     0\n",
      "dtype: int64\n"
     ]
    }
   ],
   "source": [
    "# Checking for missing values in customer list\n",
    "print(customer_list.isnull().sum())"
   ]
  },
  {
   "cell_type": "code",
   "execution_count": null,
   "id": "d21d1e5d-f21b-4b87-89d6-49902792bdcc",
   "metadata": {},
   "outputs": [],
   "source": []
  }
 ],
 "metadata": {
  "kernelspec": {
   "display_name": "Python 3 (ipykernel)",
   "language": "python",
   "name": "python3"
  },
  "language_info": {
   "codemirror_mode": {
    "name": "ipython",
    "version": 3
   },
   "file_extension": ".py",
   "mimetype": "text/x-python",
   "name": "python",
   "nbconvert_exporter": "python",
   "pygments_lexer": "ipython3",
   "version": "3.12.6"
  }
 },
 "nbformat": 4,
 "nbformat_minor": 5
}
