{
 "cells": [
  {
   "cell_type": "code",
   "execution_count": null,
   "id": "7c609b0b-0011-4bec-a5b4-816f669f4d94",
   "metadata": {},
   "outputs": [],
   "source": []
  }
 ],
 "metadata": {
  "kernelspec": {
   "display_name": "",
   "name": ""
  },
  "language_info": {
   "name": ""
  }
 },
 "nbformat": 4,
 "nbformat_minor": 5
}
